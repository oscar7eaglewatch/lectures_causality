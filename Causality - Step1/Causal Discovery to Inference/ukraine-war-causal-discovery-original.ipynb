{
 "cells": [
  {
   "attachments": {},
   "cell_type": "markdown",
   "id": "d4c1b037-1825-4ffa-ba31-da7396b4f307",
   "metadata": {},
   "source": [
    "# Causal Discovery to Causal Inference\n",
    "Yongwoo Jeong \n",
    "\n",
    "GS ITM"
   ]
  },
  {
   "cell_type": "code",
   "execution_count": 2,
   "id": "6b0741ba-8aa1-49ee-8a42-dd33a1cb1c20",
   "metadata": {},
   "outputs": [],
   "source": [
    "import os\n",
    "import numpy as np\n",
    "import pandas as pd\n",
    "from pandas_datareader import data as pdr\n",
    "\n",
    "import graphviz\n",
    "import lingam\n",
    "from lingam.utils import make_dot\n",
    "from graphs_analysis import make_graph, get_causal_model\n",
    "from graphs_analysis import get_optimal_intervention, get_label_processing\n",
    "from graphs_analysis import get_total_effect, get_intervention_effect, get_bootstrapping_prediction\n",
    "\n",
    "import plotly\n",
    "import plotly.graph_objects as go\n",
    "from dowhy import CausalModel\n",
    "\n",
    "np.set_printoptions(precision=3, suppress=True)\n",
    "np.random.seed(0)\n",
    "\n",
    "import warnings\n",
    "warnings.filterwarnings('ignore')"
   ]
  },
  {
   "attachments": {},
   "cell_type": "markdown",
   "id": "7f325ddb-c84e-4e3a-8b5d-f61fa4fdfafe",
   "metadata": {},
   "source": [
    "### Dataset was collected from Yahoo Finance.\n",
    "\n",
    "crude oil stock code: CL=F\n",
    "\n",
    "anderson stock code : ANDE\n",
    "\n",
    "natural gas stock code: NG=F\n",
    "\n",
    "constellation stock code: STZ\n",
    "\n",
    "Question: what about Heineken? : HEINY\n",
    "<br>\n",
    "Did they suffer or not during the Ukrainian War?"
   ]
  },
  {
   "cell_type": "code",
   "execution_count": 3,
   "id": "7e96d116-180f-40c9-82cd-97ff00131152",
   "metadata": {},
   "outputs": [],
   "source": [
    "df = pd.read_csv(\"ukraine_war_effect.csv\")"
   ]
  },
  {
   "cell_type": "code",
   "execution_count": 4,
   "id": "29df3e05-ff5c-4a59-b812-796ac040c341",
   "metadata": {},
   "outputs": [
    {
     "data": {
      "text/html": [
       "<div>\n",
       "<style scoped>\n",
       "    .dataframe tbody tr th:only-of-type {\n",
       "        vertical-align: middle;\n",
       "    }\n",
       "\n",
       "    .dataframe tbody tr th {\n",
       "        vertical-align: top;\n",
       "    }\n",
       "\n",
       "    .dataframe thead th {\n",
       "        text-align: right;\n",
       "    }\n",
       "</style>\n",
       "<table border=\"1\" class=\"dataframe\">\n",
       "  <thead>\n",
       "    <tr style=\"text-align: right;\">\n",
       "      <th></th>\n",
       "      <th>datetime</th>\n",
       "      <th>crude_oil</th>\n",
       "      <th>anderson</th>\n",
       "      <th>natural_gas</th>\n",
       "      <th>constellation</th>\n",
       "      <th>usd</th>\n",
       "    </tr>\n",
       "  </thead>\n",
       "  <tbody>\n",
       "    <tr>\n",
       "      <th>0</th>\n",
       "      <td>2021-12-31</td>\n",
       "      <td>75.209999</td>\n",
       "      <td>38.574017</td>\n",
       "      <td>3.730</td>\n",
       "      <td>249.350586</td>\n",
       "      <td>95.669998</td>\n",
       "    </tr>\n",
       "    <tr>\n",
       "      <th>1</th>\n",
       "      <td>2022-01-03</td>\n",
       "      <td>76.080002</td>\n",
       "      <td>39.102158</td>\n",
       "      <td>3.815</td>\n",
       "      <td>251.188660</td>\n",
       "      <td>96.239998</td>\n",
       "    </tr>\n",
       "    <tr>\n",
       "      <th>2</th>\n",
       "      <td>2022-01-04</td>\n",
       "      <td>76.989998</td>\n",
       "      <td>39.291489</td>\n",
       "      <td>3.717</td>\n",
       "      <td>252.957169</td>\n",
       "      <td>96.290001</td>\n",
       "    </tr>\n",
       "    <tr>\n",
       "      <th>3</th>\n",
       "      <td>2022-01-05</td>\n",
       "      <td>77.849998</td>\n",
       "      <td>38.922791</td>\n",
       "      <td>3.882</td>\n",
       "      <td>251.725159</td>\n",
       "      <td>96.190002</td>\n",
       "    </tr>\n",
       "    <tr>\n",
       "      <th>4</th>\n",
       "      <td>2022-01-06</td>\n",
       "      <td>79.459999</td>\n",
       "      <td>39.062298</td>\n",
       "      <td>3.812</td>\n",
       "      <td>243.210464</td>\n",
       "      <td>96.250000</td>\n",
       "    </tr>\n",
       "    <tr>\n",
       "      <th>...</th>\n",
       "      <td>...</td>\n",
       "      <td>...</td>\n",
       "      <td>...</td>\n",
       "      <td>...</td>\n",
       "      <td>...</td>\n",
       "      <td>...</td>\n",
       "    </tr>\n",
       "    <tr>\n",
       "      <th>111</th>\n",
       "      <td>2022-06-13</td>\n",
       "      <td>120.930000</td>\n",
       "      <td>35.820000</td>\n",
       "      <td>8.609</td>\n",
       "      <td>230.029999</td>\n",
       "      <td>104.150002</td>\n",
       "    </tr>\n",
       "    <tr>\n",
       "      <th>112</th>\n",
       "      <td>2022-06-14</td>\n",
       "      <td>118.930000</td>\n",
       "      <td>36.380001</td>\n",
       "      <td>7.189</td>\n",
       "      <td>231.500000</td>\n",
       "      <td>105.080002</td>\n",
       "    </tr>\n",
       "    <tr>\n",
       "      <th>113</th>\n",
       "      <td>2022-06-15</td>\n",
       "      <td>115.309998</td>\n",
       "      <td>36.619999</td>\n",
       "      <td>7.420</td>\n",
       "      <td>230.580002</td>\n",
       "      <td>105.519997</td>\n",
       "    </tr>\n",
       "    <tr>\n",
       "      <th>114</th>\n",
       "      <td>2022-06-16</td>\n",
       "      <td>117.589996</td>\n",
       "      <td>35.380001</td>\n",
       "      <td>7.464</td>\n",
       "      <td>225.770004</td>\n",
       "      <td>105.160004</td>\n",
       "    </tr>\n",
       "    <tr>\n",
       "      <th>115</th>\n",
       "      <td>2022-06-17</td>\n",
       "      <td>109.559998</td>\n",
       "      <td>33.810001</td>\n",
       "      <td>6.944</td>\n",
       "      <td>227.699997</td>\n",
       "      <td>103.629997</td>\n",
       "    </tr>\n",
       "  </tbody>\n",
       "</table>\n",
       "<p>116 rows × 6 columns</p>\n",
       "</div>"
      ],
      "text/plain": [
       "       datetime   crude_oil   anderson  natural_gas  constellation         usd\n",
       "0    2021-12-31   75.209999  38.574017        3.730     249.350586   95.669998\n",
       "1    2022-01-03   76.080002  39.102158        3.815     251.188660   96.239998\n",
       "2    2022-01-04   76.989998  39.291489        3.717     252.957169   96.290001\n",
       "3    2022-01-05   77.849998  38.922791        3.882     251.725159   96.190002\n",
       "4    2022-01-06   79.459999  39.062298        3.812     243.210464   96.250000\n",
       "..          ...         ...        ...          ...            ...         ...\n",
       "111  2022-06-13  120.930000  35.820000        8.609     230.029999  104.150002\n",
       "112  2022-06-14  118.930000  36.380001        7.189     231.500000  105.080002\n",
       "113  2022-06-15  115.309998  36.619999        7.420     230.580002  105.519997\n",
       "114  2022-06-16  117.589996  35.380001        7.464     225.770004  105.160004\n",
       "115  2022-06-17  109.559998  33.810001        6.944     227.699997  103.629997\n",
       "\n",
       "[116 rows x 6 columns]"
      ]
     },
     "execution_count": 4,
     "metadata": {},
     "output_type": "execute_result"
    }
   ],
   "source": [
    "df"
   ]
  },
  {
   "cell_type": "code",
   "execution_count": 5,
   "id": "c13ab1b8-b9ae-4c85-ac05-ed40250599ef",
   "metadata": {},
   "outputs": [],
   "source": [
    "X = df[['crude_oil', 'anderson', 'natural_gas', 'constellation', 'usd']]"
   ]
  },
  {
   "attachments": {},
   "cell_type": "markdown",
   "id": "781fb784-c0f2-4acf-9d55-38bc98a6c6dd",
   "metadata": {},
   "source": [
    "### causal discovery model"
   ]
  },
  {
   "cell_type": "code",
   "execution_count": 6,
   "id": "0c3ece43-a6af-431d-ab20-7551ab98990d",
   "metadata": {},
   "outputs": [
    {
     "data": {
      "text/plain": [
       "<lingam.direct_lingam.DirectLiNGAM at 0x103e42a60>"
      ]
     },
     "execution_count": 6,
     "metadata": {},
     "output_type": "execute_result"
    }
   ],
   "source": [
    "model = get_causal_model()\n",
    "model.fit(X)"
   ]
  },
  {
   "cell_type": "code",
   "execution_count": 7,
   "id": "db349c54-f926-42b9-aa6c-eae307bcc05f",
   "metadata": {},
   "outputs": [],
   "source": [
    "labels, df_inference = get_label_processing(X)\n",
    "\n",
    "dag = make_graph(model.adjacency_matrix_, labels)"
   ]
  },
  {
   "attachments": {},
   "cell_type": "markdown",
   "id": "b501a02e-aa7c-4344-a6e8-59b1700ebb9a",
   "metadata": {},
   "source": [
    "### This is what we found from the dataset.\n",
    "\n",
    "The causal path is shown in the DAG"
   ]
  },
  {
   "cell_type": "code",
   "execution_count": 8,
   "id": "f94bec9f-c60e-4117-809c-a0fa651a8cbc",
   "metadata": {},
   "outputs": [
    {
     "data": {
      "image/svg+xml": [
       "<?xml version=\"1.0\" encoding=\"UTF-8\" standalone=\"no\"?>\n",
       "<!DOCTYPE svg PUBLIC \"-//W3C//DTD SVG 1.1//EN\"\n",
       " \"http://www.w3.org/Graphics/SVG/1.1/DTD/svg11.dtd\">\n",
       "<!-- Generated by graphviz version 4.0.0 (0)\n",
       " -->\n",
       "<!-- Pages: 1 -->\n",
       "<svg width=\"274pt\" height=\"305pt\"\n",
       " viewBox=\"0.00 0.00 274.00 305.00\" xmlns=\"http://www.w3.org/2000/svg\" xmlns:xlink=\"http://www.w3.org/1999/xlink\">\n",
       "<g id=\"graph0\" class=\"graph\" transform=\"scale(1 1) rotate(0) translate(4 301)\">\n",
       "<polygon fill=\"white\" stroke=\"transparent\" points=\"-4,4 -4,-301 270,-301 270,4 -4,4\"/>\n",
       "<!-- 1. anderson -->\n",
       "<g id=\"node1\" class=\"node\">\n",
       "<title>1. anderson</title>\n",
       "<ellipse fill=\"none\" stroke=\"black\" cx=\"52\" cy=\"-279\" rx=\"51.99\" ry=\"18\"/>\n",
       "<text text-anchor=\"middle\" x=\"52\" y=\"-275.3\" font-family=\"Times,serif\" font-size=\"14.00\">1. anderson</text>\n",
       "</g>\n",
       "<!-- 0. crude_oil -->\n",
       "<g id=\"node2\" class=\"node\">\n",
       "<title>0. crude_oil</title>\n",
       "<ellipse fill=\"none\" stroke=\"black\" cx=\"113\" cy=\"-192\" rx=\"53.09\" ry=\"18\"/>\n",
       "<text text-anchor=\"middle\" x=\"113\" y=\"-188.3\" font-family=\"Times,serif\" font-size=\"14.00\">0. crude_oil</text>\n",
       "</g>\n",
       "<!-- 1. anderson&#45;&gt;0. crude_oil -->\n",
       "<g id=\"edge1\" class=\"edge\">\n",
       "<title>1. anderson&#45;&gt;0. crude_oil</title>\n",
       "<path fill=\"none\" stroke=\"black\" d=\"M64.05,-261.21C72.9,-248.87 85.08,-231.89 95.08,-217.97\"/>\n",
       "<polygon fill=\"black\" stroke=\"black\" points=\"97.98,-219.92 100.97,-209.76 92.29,-215.84 97.98,-219.92\"/>\n",
       "<text text-anchor=\"middle\" x=\"98.5\" y=\"-231.8\" font-family=\"Times,serif\" font-size=\"14.00\">0.26</text>\n",
       "</g>\n",
       "<!-- 3. constellation -->\n",
       "<g id=\"node4\" class=\"node\">\n",
       "<title>3. constellation</title>\n",
       "<ellipse fill=\"none\" stroke=\"black\" cx=\"152\" cy=\"-18\" rx=\"64.99\" ry=\"18\"/>\n",
       "<text text-anchor=\"middle\" x=\"152\" y=\"-14.3\" font-family=\"Times,serif\" font-size=\"14.00\">3. constellation</text>\n",
       "</g>\n",
       "<!-- 1. anderson&#45;&gt;3. constellation -->\n",
       "<g id=\"edge4\" class=\"edge\">\n",
       "<title>1. anderson&#45;&gt;3. constellation</title>\n",
       "<path fill=\"none\" stroke=\"black\" d=\"M48.96,-260.69C45.93,-239.74 42.8,-203.58 51,-174 65.34,-122.22 104.06,-71.93 129.18,-43.29\"/>\n",
       "<polygon fill=\"black\" stroke=\"black\" points=\"131.81,-45.59 135.87,-35.81 126.59,-40.93 131.81,-45.59\"/>\n",
       "<text text-anchor=\"middle\" x=\"76.5\" y=\"-144.8\" font-family=\"Times,serif\" font-size=\"14.00\">0.28</text>\n",
       "</g>\n",
       "<!-- 0. crude_oil&#45;&gt;3. constellation -->\n",
       "<g id=\"edge3\" class=\"edge\">\n",
       "<title>0. crude_oil&#45;&gt;3. constellation</title>\n",
       "<path fill=\"none\" stroke=\"black\" d=\"M112.77,-173.78C112.89,-152.91 114.35,-116.84 122,-87 125.66,-72.7 132.04,-57.6 137.98,-45.27\"/>\n",
       "<polygon fill=\"black\" stroke=\"black\" points=\"141.25,-46.55 142.59,-36.04 134.99,-43.43 141.25,-46.55\"/>\n",
       "<text text-anchor=\"middle\" x=\"136.5\" y=\"-101.3\" font-family=\"Times,serif\" font-size=\"14.00\">&#45;1.00</text>\n",
       "</g>\n",
       "<!-- 4. usd -->\n",
       "<g id=\"node5\" class=\"node\">\n",
       "<title>4. usd</title>\n",
       "<ellipse fill=\"none\" stroke=\"black\" cx=\"192\" cy=\"-105\" rx=\"32.49\" ry=\"18\"/>\n",
       "<text text-anchor=\"middle\" x=\"192\" y=\"-101.3\" font-family=\"Times,serif\" font-size=\"14.00\">4. usd</text>\n",
       "</g>\n",
       "<!-- 0. crude_oil&#45;&gt;4. usd -->\n",
       "<g id=\"edge7\" class=\"edge\">\n",
       "<title>0. crude_oil&#45;&gt;4. usd</title>\n",
       "<path fill=\"none\" stroke=\"black\" d=\"M128.23,-174.61C140.26,-161.67 157.19,-143.45 170.59,-129.04\"/>\n",
       "<polygon fill=\"black\" stroke=\"black\" points=\"173.36,-131.19 177.61,-121.48 168.24,-126.42 173.36,-131.19\"/>\n",
       "<text text-anchor=\"middle\" x=\"169.5\" y=\"-144.8\" font-family=\"Times,serif\" font-size=\"14.00\">0.06</text>\n",
       "</g>\n",
       "<!-- 2. natural_gas -->\n",
       "<g id=\"node3\" class=\"node\">\n",
       "<title>2. natural_gas</title>\n",
       "<ellipse fill=\"none\" stroke=\"black\" cx=\"202\" cy=\"-279\" rx=\"60.39\" ry=\"18\"/>\n",
       "<text text-anchor=\"middle\" x=\"202\" y=\"-275.3\" font-family=\"Times,serif\" font-size=\"14.00\">2. natural_gas</text>\n",
       "</g>\n",
       "<!-- 2. natural_gas&#45;&gt;0. crude_oil -->\n",
       "<g id=\"edge2\" class=\"edge\">\n",
       "<title>2. natural_gas&#45;&gt;0. crude_oil</title>\n",
       "<path fill=\"none\" stroke=\"black\" d=\"M183.56,-261.82C177,-255.97 169.6,-249.26 163,-243 154.13,-234.6 144.59,-225.17 136.26,-216.79\"/>\n",
       "<polygon fill=\"black\" stroke=\"black\" points=\"138.51,-214.09 128.99,-209.44 133.53,-219.01 138.51,-214.09\"/>\n",
       "<text text-anchor=\"middle\" x=\"175.5\" y=\"-231.8\" font-family=\"Times,serif\" font-size=\"14.00\">5.12</text>\n",
       "</g>\n",
       "<!-- 2. natural_gas&#45;&gt;3. constellation -->\n",
       "<g id=\"edge5\" class=\"edge\">\n",
       "<title>2. natural_gas&#45;&gt;3. constellation</title>\n",
       "<path fill=\"none\" stroke=\"black\" d=\"M210.46,-261.04C226.27,-226.94 256.62,-148.1 233,-87 225.27,-67.02 207.77,-51.13 191,-39.75\"/>\n",
       "<polygon fill=\"black\" stroke=\"black\" points=\"192.66,-36.66 182.35,-34.21 188.88,-42.55 192.66,-36.66\"/>\n",
       "<text text-anchor=\"middle\" x=\"253.5\" y=\"-144.8\" font-family=\"Times,serif\" font-size=\"14.00\">7.50</text>\n",
       "</g>\n",
       "<!-- 2. natural_gas&#45;&gt;4. usd -->\n",
       "<g id=\"edge8\" class=\"edge\">\n",
       "<title>2. natural_gas&#45;&gt;4. usd</title>\n",
       "<path fill=\"none\" stroke=\"black\" d=\"M201,-260.88C199.26,-231 195.66,-169.11 193.58,-133.27\"/>\n",
       "<polygon fill=\"black\" stroke=\"black\" points=\"197.06,-132.83 192.99,-123.05 190.07,-133.24 197.06,-132.83\"/>\n",
       "<text text-anchor=\"middle\" x=\"209.5\" y=\"-188.3\" font-family=\"Times,serif\" font-size=\"14.00\">1.27</text>\n",
       "</g>\n",
       "<!-- 4. usd&#45;&gt;3. constellation -->\n",
       "<g id=\"edge6\" class=\"edge\">\n",
       "<title>4. usd&#45;&gt;3. constellation</title>\n",
       "<path fill=\"none\" stroke=\"black\" d=\"M184.09,-87.21C178.49,-75.29 170.85,-59.06 164.43,-45.42\"/>\n",
       "<polygon fill=\"black\" stroke=\"black\" points=\"167.44,-43.61 160.02,-36.05 161.11,-46.59 167.44,-43.61\"/>\n",
       "<text text-anchor=\"middle\" x=\"186.5\" y=\"-57.8\" font-family=\"Times,serif\" font-size=\"14.00\">0.47</text>\n",
       "</g>\n",
       "</g>\n",
       "</svg>\n"
      ],
      "text/plain": [
       "<graphviz.graphs.Digraph at 0x16d982af0>"
      ]
     },
     "execution_count": 8,
     "metadata": {},
     "output_type": "execute_result"
    }
   ],
   "source": [
    "dag"
   ]
  },
  {
   "cell_type": "code",
   "execution_count": 9,
   "id": "b6235cf5-a5cc-4f4b-9842-575ed63dc00b",
   "metadata": {},
   "outputs": [
    {
     "data": {
      "text/plain": [
       "['0. crude_oil', '1. anderson', '2. natural_gas', '3. constellation', '4. usd']"
      ]
     },
     "execution_count": 9,
     "metadata": {},
     "output_type": "execute_result"
    }
   ],
   "source": [
    "labels"
   ]
  },
  {
   "attachments": {},
   "cell_type": "markdown",
   "id": "70319e18-33c0-461a-88d1-9f12ab69058d",
   "metadata": {},
   "source": [
    "### crude oil price impacting on constellation\n",
    "Remember this. We will use this for inference later"
   ]
  },
  {
   "cell_type": "code",
   "execution_count": 11,
   "id": "8f2acad8-a2af-4520-a069-b60a267229ca",
   "metadata": {},
   "outputs": [
    {
     "name": "stdout",
     "output_type": "stream",
     "text": [
      "total effect: -0.972\n"
     ]
    }
   ],
   "source": [
    "# crude oil -> constellation\n",
    "get_total_effect(model, X, cause_index=0, result_index=3)"
   ]
  },
  {
   "cell_type": "code",
   "execution_count": 12,
   "id": "b4a0d5ae-8b10-4d4d-a43c-412013c4d371",
   "metadata": {},
   "outputs": [
    {
     "name": "stdout",
     "output_type": "stream",
     "text": [
      "total effect: 5.148\n"
     ]
    }
   ],
   "source": [
    "# natural gas -> crude oil\n",
    "get_total_effect(model, X, cause_index=2, result_index=0)"
   ]
  },
  {
   "cell_type": "code",
   "execution_count": 13,
   "id": "ebec245a-6c7e-4763-b937-5143200501ee",
   "metadata": {},
   "outputs": [
    {
     "name": "stdout",
     "output_type": "stream",
     "text": [
      "total effect: 3.133\n"
     ]
    }
   ],
   "source": [
    "# natural gas -> constellation\n",
    "get_total_effect(model, X, cause_index=2, result_index=3)"
   ]
  },
  {
   "attachments": {},
   "cell_type": "markdown",
   "id": "a7b5c45f-1603-41d7-b7ef-39ab4eea69d5",
   "metadata": {},
   "source": [
    "### intervention effect\n",
    "\n",
    "What if there is no connection to the target except some intervention?\n",
    "\n",
    "What will make more effect on the target?"
   ]
  },
  {
   "cell_type": "code",
   "execution_count": 14,
   "id": "c43ffd2e-8e9c-4c63-9f69-ab770feeadbd",
   "metadata": {},
   "outputs": [],
   "source": [
    "intervention_data = get_intervention_effect(model, X, target_index=3)"
   ]
  },
  {
   "cell_type": "markdown",
   "id": "8bed010e",
   "metadata": {},
   "source": [
    "### Remove all incoming arrows to the interesting interventions..\n",
    "\n",
    "e.g. for crude_oil as intervention, we remove anderson -> crude_oil and natural_gas -> crude_oil \n",
    "<br>\n",
    "but we keep natural_gas -> constellation and anderson -> constellation"
   ]
  },
  {
   "cell_type": "code",
   "execution_count": 15,
   "id": "0c9be5e8-0289-4788-ab5d-b57188cdfa9d",
   "metadata": {},
   "outputs": [
    {
     "data": {
      "text/html": [
       "<div>\n",
       "<style scoped>\n",
       "    .dataframe tbody tr th:only-of-type {\n",
       "        vertical-align: middle;\n",
       "    }\n",
       "\n",
       "    .dataframe tbody tr th {\n",
       "        vertical-align: top;\n",
       "    }\n",
       "\n",
       "    .dataframe thead th {\n",
       "        text-align: right;\n",
       "    }\n",
       "</style>\n",
       "<table border=\"1\" class=\"dataframe\">\n",
       "  <thead>\n",
       "    <tr style=\"text-align: right;\">\n",
       "      <th></th>\n",
       "      <th>feature</th>\n",
       "      <th>effect_plus</th>\n",
       "      <th>effect_minus</th>\n",
       "    </tr>\n",
       "  </thead>\n",
       "  <tbody>\n",
       "    <tr>\n",
       "      <th>0</th>\n",
       "      <td>crude_oil</td>\n",
       "      <td>11.854465</td>\n",
       "      <td>11.854465</td>\n",
       "    </tr>\n",
       "    <tr>\n",
       "      <th>1</th>\n",
       "      <td>anderson</td>\n",
       "      <td>0.158525</td>\n",
       "      <td>0.158525</td>\n",
       "    </tr>\n",
       "    <tr>\n",
       "      <th>2</th>\n",
       "      <td>natural_gas</td>\n",
       "      <td>5.330005</td>\n",
       "      <td>5.330005</td>\n",
       "    </tr>\n",
       "    <tr>\n",
       "      <th>3</th>\n",
       "      <td>constellation</td>\n",
       "      <td>0.000000</td>\n",
       "      <td>0.000000</td>\n",
       "    </tr>\n",
       "    <tr>\n",
       "      <th>4</th>\n",
       "      <td>usd</td>\n",
       "      <td>1.448175</td>\n",
       "      <td>1.448175</td>\n",
       "    </tr>\n",
       "  </tbody>\n",
       "</table>\n",
       "</div>"
      ],
      "text/plain": [
       "         feature  effect_plus  effect_minus\n",
       "0      crude_oil    11.854465     11.854465\n",
       "1       anderson     0.158525      0.158525\n",
       "2    natural_gas     5.330005      5.330005\n",
       "3  constellation     0.000000      0.000000\n",
       "4            usd     1.448175      1.448175"
      ]
     },
     "execution_count": 15,
     "metadata": {},
     "output_type": "execute_result"
    }
   ],
   "source": [
    "intervention_data[\"intervention_effect\"]"
   ]
  },
  {
   "cell_type": "code",
   "execution_count": 16,
   "id": "0efa6679-81dc-443d-88a7-23720291a09c",
   "metadata": {},
   "outputs": [
    {
     "data": {
      "text/plain": [
       "'crude_oil'"
      ]
     },
     "execution_count": 16,
     "metadata": {},
     "output_type": "execute_result"
    }
   ],
   "source": [
    "intervention_data[\"max_intervention_element_name\"]"
   ]
  },
  {
   "cell_type": "code",
   "execution_count": 17,
   "id": "1d312f83-1064-4cfe-ae97-6b87341af754",
   "metadata": {},
   "outputs": [
    {
     "data": {
      "text/html": [
       "<style>#sk-container-id-1 {color: black;background-color: white;}#sk-container-id-1 pre{padding: 0;}#sk-container-id-1 div.sk-toggleable {background-color: white;}#sk-container-id-1 label.sk-toggleable__label {cursor: pointer;display: block;width: 100%;margin-bottom: 0;padding: 0.3em;box-sizing: border-box;text-align: center;}#sk-container-id-1 label.sk-toggleable__label-arrow:before {content: \"▸\";float: left;margin-right: 0.25em;color: #696969;}#sk-container-id-1 label.sk-toggleable__label-arrow:hover:before {color: black;}#sk-container-id-1 div.sk-estimator:hover label.sk-toggleable__label-arrow:before {color: black;}#sk-container-id-1 div.sk-toggleable__content {max-height: 0;max-width: 0;overflow: hidden;text-align: left;background-color: #f0f8ff;}#sk-container-id-1 div.sk-toggleable__content pre {margin: 0.2em;color: black;border-radius: 0.25em;background-color: #f0f8ff;}#sk-container-id-1 input.sk-toggleable__control:checked~div.sk-toggleable__content {max-height: 200px;max-width: 100%;overflow: auto;}#sk-container-id-1 input.sk-toggleable__control:checked~label.sk-toggleable__label-arrow:before {content: \"▾\";}#sk-container-id-1 div.sk-estimator input.sk-toggleable__control:checked~label.sk-toggleable__label {background-color: #d4ebff;}#sk-container-id-1 div.sk-label input.sk-toggleable__control:checked~label.sk-toggleable__label {background-color: #d4ebff;}#sk-container-id-1 input.sk-hidden--visually {border: 0;clip: rect(1px 1px 1px 1px);clip: rect(1px, 1px, 1px, 1px);height: 1px;margin: -1px;overflow: hidden;padding: 0;position: absolute;width: 1px;}#sk-container-id-1 div.sk-estimator {font-family: monospace;background-color: #f0f8ff;border: 1px dotted black;border-radius: 0.25em;box-sizing: border-box;margin-bottom: 0.5em;}#sk-container-id-1 div.sk-estimator:hover {background-color: #d4ebff;}#sk-container-id-1 div.sk-parallel-item::after {content: \"\";width: 100%;border-bottom: 1px solid gray;flex-grow: 1;}#sk-container-id-1 div.sk-label:hover label.sk-toggleable__label {background-color: #d4ebff;}#sk-container-id-1 div.sk-serial::before {content: \"\";position: absolute;border-left: 1px solid gray;box-sizing: border-box;top: 0;bottom: 0;left: 50%;z-index: 0;}#sk-container-id-1 div.sk-serial {display: flex;flex-direction: column;align-items: center;background-color: white;padding-right: 0.2em;padding-left: 0.2em;position: relative;}#sk-container-id-1 div.sk-item {position: relative;z-index: 1;}#sk-container-id-1 div.sk-parallel {display: flex;align-items: stretch;justify-content: center;background-color: white;position: relative;}#sk-container-id-1 div.sk-item::before, #sk-container-id-1 div.sk-parallel-item::before {content: \"\";position: absolute;border-left: 1px solid gray;box-sizing: border-box;top: 0;bottom: 0;left: 50%;z-index: -1;}#sk-container-id-1 div.sk-parallel-item {display: flex;flex-direction: column;z-index: 1;position: relative;background-color: white;}#sk-container-id-1 div.sk-parallel-item:first-child::after {align-self: flex-end;width: 50%;}#sk-container-id-1 div.sk-parallel-item:last-child::after {align-self: flex-start;width: 50%;}#sk-container-id-1 div.sk-parallel-item:only-child::after {width: 0;}#sk-container-id-1 div.sk-dashed-wrapped {border: 1px dashed gray;margin: 0 0.4em 0.5em 0.4em;box-sizing: border-box;padding-bottom: 0.4em;background-color: white;}#sk-container-id-1 div.sk-label label {font-family: monospace;font-weight: bold;display: inline-block;line-height: 1.2em;}#sk-container-id-1 div.sk-label-container {text-align: center;}#sk-container-id-1 div.sk-container {/* jupyter's `normalize.less` sets `[hidden] { display: none; }` but bootstrap.min.css set `[hidden] { display: none !important; }` so we also need the `!important` here to be able to override the default hidden behavior on the sphinx rendered scikit-learn.org. See: https://github.com/scikit-learn/scikit-learn/issues/21755 */display: inline-block !important;position: relative;}#sk-container-id-1 div.sk-text-repr-fallback {display: none;}</style><div id=\"sk-container-id-1\" class=\"sk-top-container\"><div class=\"sk-text-repr-fallback\"><pre>LassoCV(cv=7, random_state=0)</pre><b>In a Jupyter environment, please rerun this cell to show the HTML representation or trust the notebook. <br />On GitHub, the HTML representation is unable to render, please try loading this page with nbviewer.org.</b></div><div class=\"sk-container\" hidden><div class=\"sk-item\"><div class=\"sk-estimator sk-toggleable\"><input class=\"sk-toggleable__control sk-hidden--visually\" id=\"sk-estimator-id-1\" type=\"checkbox\" checked><label for=\"sk-estimator-id-1\" class=\"sk-toggleable__label sk-toggleable__label-arrow\">LassoCV</label><div class=\"sk-toggleable__content\"><pre>LassoCV(cv=7, random_state=0)</pre></div></div></div></div></div>"
      ],
      "text/plain": [
       "LassoCV(cv=7, random_state=0)"
      ]
     },
     "execution_count": 17,
     "metadata": {},
     "output_type": "execute_result"
    }
   ],
   "source": [
    "intervention_data[\"reg_model\"]"
   ]
  },
  {
   "cell_type": "code",
   "execution_count": 18,
   "id": "163e53e4-c89e-42b7-b3bc-d71c60f0fc7d",
   "metadata": {},
   "outputs": [
    {
     "data": {
      "text/plain": [
       "<lingam.causal_effect.CausalEffect at 0x16d4103d0>"
      ]
     },
     "execution_count": 18,
     "metadata": {},
     "output_type": "execute_result"
    }
   ],
   "source": [
    "intervention_data[\"causal_effect\"]"
   ]
  },
  {
   "cell_type": "code",
   "execution_count": 20,
   "id": "0f66a42d-4189-47c7-843c-d8bacc311c93",
   "metadata": {},
   "outputs": [
    {
     "data": {
      "image/png": "[encoded data removed]",
      "text/latex": [
       "$\\displaystyle 241.175701212227$"
      ],
      "text/plain": [
       "241.17570121222718"
      ]
     },
     "execution_count": 20,
     "metadata": {},
     "output_type": "execute_result"
    }
   ],
   "source": [
    "get_optimal_intervention(X, intervention_data, intervention_index=0, target_index=3, target_value=100)"
   ]
  },
  {
   "attachments": {},
   "cell_type": "markdown",
   "id": "97f14eae-13c4-4a2b-abaf-5b6a3b8b25f0",
   "metadata": {},
   "source": [
    "### Let's use bootstrapping to analyze this further."
   ]
  },
  {
   "cell_type": "code",
   "execution_count": 21,
   "id": "64acf2d9-8665-48f3-bea9-bcc9f37a392b",
   "metadata": {},
   "outputs": [],
   "source": [
    "boostrapping_result = get_bootstrapping_prediction(X, cause_index=2, target_index=3, n_sampling=100, min_causal_effect=0.01)"
   ]
  },
  {
   "cell_type": "code",
   "execution_count": 22,
   "id": "306b0753-341b-4427-a895-a4ac1d9b2fd7",
   "metadata": {},
   "outputs": [
    {
     "data": {
      "text/html": [
       "<div>\n",
       "<style scoped>\n",
       "    .dataframe tbody tr th:only-of-type {\n",
       "        vertical-align: middle;\n",
       "    }\n",
       "\n",
       "    .dataframe tbody tr th {\n",
       "        vertical-align: top;\n",
       "    }\n",
       "\n",
       "    .dataframe thead th {\n",
       "        text-align: right;\n",
       "    }\n",
       "</style>\n",
       "<table border=\"1\" class=\"dataframe\">\n",
       "  <thead>\n",
       "    <tr style=\"text-align: right;\">\n",
       "      <th></th>\n",
       "      <th>from</th>\n",
       "      <th>to</th>\n",
       "      <th>effect</th>\n",
       "      <th>probability</th>\n",
       "    </tr>\n",
       "  </thead>\n",
       "  <tbody>\n",
       "    <tr>\n",
       "      <th>0</th>\n",
       "      <td>natural_gas</td>\n",
       "      <td>crude_oil</td>\n",
       "      <td>5.147973</td>\n",
       "      <td>0.86</td>\n",
       "    </tr>\n",
       "    <tr>\n",
       "      <th>1</th>\n",
       "      <td>usd</td>\n",
       "      <td>constellation</td>\n",
       "      <td>0.530123</td>\n",
       "      <td>0.79</td>\n",
       "    </tr>\n",
       "    <tr>\n",
       "      <th>2</th>\n",
       "      <td>natural_gas</td>\n",
       "      <td>constellation</td>\n",
       "      <td>3.133494</td>\n",
       "      <td>0.77</td>\n",
       "    </tr>\n",
       "    <tr>\n",
       "      <th>3</th>\n",
       "      <td>crude_oil</td>\n",
       "      <td>constellation</td>\n",
       "      <td>-0.926805</td>\n",
       "      <td>0.75</td>\n",
       "    </tr>\n",
       "    <tr>\n",
       "      <th>4</th>\n",
       "      <td>crude_oil</td>\n",
       "      <td>usd</td>\n",
       "      <td>0.059022</td>\n",
       "      <td>0.75</td>\n",
       "    </tr>\n",
       "    <tr>\n",
       "      <th>5</th>\n",
       "      <td>natural_gas</td>\n",
       "      <td>usd</td>\n",
       "      <td>1.600620</td>\n",
       "      <td>0.75</td>\n",
       "    </tr>\n",
       "    <tr>\n",
       "      <th>6</th>\n",
       "      <td>usd</td>\n",
       "      <td>crude_oil</td>\n",
       "      <td>2.985867</td>\n",
       "      <td>0.25</td>\n",
       "    </tr>\n",
       "    <tr>\n",
       "      <th>7</th>\n",
       "      <td>usd</td>\n",
       "      <td>natural_gas</td>\n",
       "      <td>0.494628</td>\n",
       "      <td>0.25</td>\n",
       "    </tr>\n",
       "    <tr>\n",
       "      <th>8</th>\n",
       "      <td>constellation</td>\n",
       "      <td>natural_gas</td>\n",
       "      <td>0.024963</td>\n",
       "      <td>0.23</td>\n",
       "    </tr>\n",
       "    <tr>\n",
       "      <th>9</th>\n",
       "      <td>constellation</td>\n",
       "      <td>crude_oil</td>\n",
       "      <td>-0.394576</td>\n",
       "      <td>0.22</td>\n",
       "    </tr>\n",
       "    <tr>\n",
       "      <th>10</th>\n",
       "      <td>crude_oil</td>\n",
       "      <td>natural_gas</td>\n",
       "      <td>0.060907</td>\n",
       "      <td>0.14</td>\n",
       "    </tr>\n",
       "    <tr>\n",
       "      <th>11</th>\n",
       "      <td>anderson</td>\n",
       "      <td>constellation</td>\n",
       "      <td>0.286668</td>\n",
       "      <td>0.10</td>\n",
       "    </tr>\n",
       "    <tr>\n",
       "      <th>12</th>\n",
       "      <td>constellation</td>\n",
       "      <td>usd</td>\n",
       "      <td>0.078572</td>\n",
       "      <td>0.03</td>\n",
       "    </tr>\n",
       "  </tbody>\n",
       "</table>\n",
       "</div>"
      ],
      "text/plain": [
       "             from             to    effect  probability\n",
       "0     natural_gas      crude_oil  5.147973         0.86\n",
       "1             usd  constellation  0.530123         0.79\n",
       "2     natural_gas  constellation  3.133494         0.77\n",
       "3       crude_oil  constellation -0.926805         0.75\n",
       "4       crude_oil            usd  0.059022         0.75\n",
       "5     natural_gas            usd  1.600620         0.75\n",
       "6             usd      crude_oil  2.985867         0.25\n",
       "7             usd    natural_gas  0.494628         0.25\n",
       "8   constellation    natural_gas  0.024963         0.23\n",
       "9   constellation      crude_oil -0.394576         0.22\n",
       "10      crude_oil    natural_gas  0.060907         0.14\n",
       "11       anderson  constellation  0.286668         0.10\n",
       "12  constellation            usd  0.078572         0.03"
      ]
     },
     "execution_count": 22,
     "metadata": {},
     "output_type": "execute_result"
    }
   ],
   "source": [
    "boostrapping_result[\"from-to-df\"]"
   ]
  },
  {
   "attachments": {},
   "cell_type": "markdown",
   "id": "1423991e-280f-4977-b62f-2f5b0f5ec707",
   "metadata": {},
   "source": [
    "### Assume that causal effects above 70% possibility to occur are important"
   ]
  },
  {
   "cell_type": "code",
   "execution_count": 23,
   "id": "d039547b-0460-4677-8a90-ba21e9c9a412",
   "metadata": {},
   "outputs": [
    {
     "data": {
      "text/html": [
       "<div>\n",
       "<style scoped>\n",
       "    .dataframe tbody tr th:only-of-type {\n",
       "        vertical-align: middle;\n",
       "    }\n",
       "\n",
       "    .dataframe tbody tr th {\n",
       "        vertical-align: top;\n",
       "    }\n",
       "\n",
       "    .dataframe thead th {\n",
       "        text-align: right;\n",
       "    }\n",
       "</style>\n",
       "<table border=\"1\" class=\"dataframe\">\n",
       "  <thead>\n",
       "    <tr style=\"text-align: right;\">\n",
       "      <th></th>\n",
       "      <th>from</th>\n",
       "      <th>to</th>\n",
       "      <th>effect</th>\n",
       "      <th>probability</th>\n",
       "    </tr>\n",
       "  </thead>\n",
       "  <tbody>\n",
       "    <tr>\n",
       "      <th>0</th>\n",
       "      <td>natural_gas</td>\n",
       "      <td>crude_oil</td>\n",
       "      <td>5.147973</td>\n",
       "      <td>0.86</td>\n",
       "    </tr>\n",
       "    <tr>\n",
       "      <th>1</th>\n",
       "      <td>usd</td>\n",
       "      <td>constellation</td>\n",
       "      <td>0.530123</td>\n",
       "      <td>0.79</td>\n",
       "    </tr>\n",
       "    <tr>\n",
       "      <th>2</th>\n",
       "      <td>natural_gas</td>\n",
       "      <td>constellation</td>\n",
       "      <td>3.133494</td>\n",
       "      <td>0.77</td>\n",
       "    </tr>\n",
       "    <tr>\n",
       "      <th>3</th>\n",
       "      <td>crude_oil</td>\n",
       "      <td>constellation</td>\n",
       "      <td>-0.926805</td>\n",
       "      <td>0.75</td>\n",
       "    </tr>\n",
       "    <tr>\n",
       "      <th>4</th>\n",
       "      <td>crude_oil</td>\n",
       "      <td>usd</td>\n",
       "      <td>0.059022</td>\n",
       "      <td>0.75</td>\n",
       "    </tr>\n",
       "    <tr>\n",
       "      <th>5</th>\n",
       "      <td>natural_gas</td>\n",
       "      <td>usd</td>\n",
       "      <td>1.600620</td>\n",
       "      <td>0.75</td>\n",
       "    </tr>\n",
       "  </tbody>\n",
       "</table>\n",
       "</div>"
      ],
      "text/plain": [
       "          from             to    effect  probability\n",
       "0  natural_gas      crude_oil  5.147973         0.86\n",
       "1          usd  constellation  0.530123         0.79\n",
       "2  natural_gas  constellation  3.133494         0.77\n",
       "3    crude_oil  constellation -0.926805         0.75\n",
       "4    crude_oil            usd  0.059022         0.75\n",
       "5  natural_gas            usd  1.600620         0.75"
      ]
     },
     "execution_count": 23,
     "metadata": {},
     "output_type": "execute_result"
    }
   ],
   "source": [
    "boostrapping_result[\"top-70%\"]"
   ]
  },
  {
   "attachments": {},
   "cell_type": "markdown",
   "id": "7e0b278d-82e9-46aa-b440-92d68110deab",
   "metadata": {},
   "source": [
    "### Narrowing down to our target\n",
    "\n",
    "It seems that crude oil has a negative causal impact on constellation about -0.93"
   ]
  },
  {
   "cell_type": "code",
   "execution_count": 24,
   "id": "90926dc4-184d-4ce2-bffb-e37e9831765e",
   "metadata": {},
   "outputs": [
    {
     "data": {
      "text/html": [
       "<div>\n",
       "<style scoped>\n",
       "    .dataframe tbody tr th:only-of-type {\n",
       "        vertical-align: middle;\n",
       "    }\n",
       "\n",
       "    .dataframe tbody tr th {\n",
       "        vertical-align: top;\n",
       "    }\n",
       "\n",
       "    .dataframe thead th {\n",
       "        text-align: right;\n",
       "    }\n",
       "</style>\n",
       "<table border=\"1\" class=\"dataframe\">\n",
       "  <thead>\n",
       "    <tr style=\"text-align: right;\">\n",
       "      <th></th>\n",
       "      <th>from</th>\n",
       "      <th>to</th>\n",
       "      <th>effect</th>\n",
       "      <th>probability</th>\n",
       "    </tr>\n",
       "  </thead>\n",
       "  <tbody>\n",
       "    <tr>\n",
       "      <th>1</th>\n",
       "      <td>usd</td>\n",
       "      <td>constellation</td>\n",
       "      <td>0.530123</td>\n",
       "      <td>0.79</td>\n",
       "    </tr>\n",
       "    <tr>\n",
       "      <th>2</th>\n",
       "      <td>natural_gas</td>\n",
       "      <td>constellation</td>\n",
       "      <td>3.133494</td>\n",
       "      <td>0.77</td>\n",
       "    </tr>\n",
       "    <tr>\n",
       "      <th>3</th>\n",
       "      <td>crude_oil</td>\n",
       "      <td>constellation</td>\n",
       "      <td>-0.926805</td>\n",
       "      <td>0.75</td>\n",
       "    </tr>\n",
       "    <tr>\n",
       "      <th>11</th>\n",
       "      <td>anderson</td>\n",
       "      <td>constellation</td>\n",
       "      <td>0.286668</td>\n",
       "      <td>0.10</td>\n",
       "    </tr>\n",
       "  </tbody>\n",
       "</table>\n",
       "</div>"
      ],
      "text/plain": [
       "           from             to    effect  probability\n",
       "1           usd  constellation  0.530123         0.79\n",
       "2   natural_gas  constellation  3.133494         0.77\n",
       "3     crude_oil  constellation -0.926805         0.75\n",
       "11     anderson  constellation  0.286668         0.10"
      ]
     },
     "execution_count": 24,
     "metadata": {},
     "output_type": "execute_result"
    }
   ],
   "source": [
    "boostrapping_result[\"effect-on-target\"]"
   ]
  },
  {
   "cell_type": "code",
   "execution_count": 25,
   "id": "6115bbbd-75a4-4e32-9715-4ede3d0ead2f",
   "metadata": {},
   "outputs": [
    {
     "data": {
      "text/html": [
       "<div>\n",
       "<style scoped>\n",
       "    .dataframe tbody tr th:only-of-type {\n",
       "        vertical-align: middle;\n",
       "    }\n",
       "\n",
       "    .dataframe tbody tr th {\n",
       "        vertical-align: top;\n",
       "    }\n",
       "\n",
       "    .dataframe thead th {\n",
       "        text-align: right;\n",
       "    }\n",
       "</style>\n",
       "<table border=\"1\" class=\"dataframe\">\n",
       "  <thead>\n",
       "    <tr style=\"text-align: right;\">\n",
       "      <th></th>\n",
       "      <th>path</th>\n",
       "      <th>effect</th>\n",
       "      <th>probability</th>\n",
       "    </tr>\n",
       "  </thead>\n",
       "  <tbody>\n",
       "    <tr>\n",
       "      <th>0</th>\n",
       "      <td>[2, 3]</td>\n",
       "      <td>7.453580</td>\n",
       "      <td>0.77</td>\n",
       "    </tr>\n",
       "    <tr>\n",
       "      <th>1</th>\n",
       "      <td>[2, 0, 3]</td>\n",
       "      <td>-4.843111</td>\n",
       "      <td>0.75</td>\n",
       "    </tr>\n",
       "    <tr>\n",
       "      <th>2</th>\n",
       "      <td>[2, 0, 4, 3]</td>\n",
       "      <td>0.181971</td>\n",
       "      <td>0.32</td>\n",
       "    </tr>\n",
       "    <tr>\n",
       "      <th>3</th>\n",
       "      <td>[2, 4, 3]</td>\n",
       "      <td>0.826570</td>\n",
       "      <td>0.32</td>\n",
       "    </tr>\n",
       "    <tr>\n",
       "      <th>4</th>\n",
       "      <td>[2, 0, 1, 3]</td>\n",
       "      <td>0.197300</td>\n",
       "      <td>0.10</td>\n",
       "    </tr>\n",
       "    <tr>\n",
       "      <th>5</th>\n",
       "      <td>[2, 1, 3]</td>\n",
       "      <td>-0.292023</td>\n",
       "      <td>0.08</td>\n",
       "    </tr>\n",
       "    <tr>\n",
       "      <th>6</th>\n",
       "      <td>[2, 0, 1, 4, 3]</td>\n",
       "      <td>0.033399</td>\n",
       "      <td>0.02</td>\n",
       "    </tr>\n",
       "    <tr>\n",
       "      <th>7</th>\n",
       "      <td>[2, 1, 4, 3]</td>\n",
       "      <td>-0.035092</td>\n",
       "      <td>0.02</td>\n",
       "    </tr>\n",
       "    <tr>\n",
       "      <th>8</th>\n",
       "      <td>[2, 0, 4, 1, 3]</td>\n",
       "      <td>-0.096477</td>\n",
       "      <td>0.01</td>\n",
       "    </tr>\n",
       "    <tr>\n",
       "      <th>9</th>\n",
       "      <td>[2, 4, 0, 3]</td>\n",
       "      <td>-3.305574</td>\n",
       "      <td>0.01</td>\n",
       "    </tr>\n",
       "    <tr>\n",
       "      <th>10</th>\n",
       "      <td>[2, 4, 1, 3]</td>\n",
       "      <td>-0.308622</td>\n",
       "      <td>0.01</td>\n",
       "    </tr>\n",
       "  </tbody>\n",
       "</table>\n",
       "</div>"
      ],
      "text/plain": [
       "               path    effect  probability\n",
       "0            [2, 3]  7.453580         0.77\n",
       "1         [2, 0, 3] -4.843111         0.75\n",
       "2      [2, 0, 4, 3]  0.181971         0.32\n",
       "3         [2, 4, 3]  0.826570         0.32\n",
       "4      [2, 0, 1, 3]  0.197300         0.10\n",
       "5         [2, 1, 3] -0.292023         0.08\n",
       "6   [2, 0, 1, 4, 3]  0.033399         0.02\n",
       "7      [2, 1, 4, 3] -0.035092         0.02\n",
       "8   [2, 0, 4, 1, 3] -0.096477         0.01\n",
       "9      [2, 4, 0, 3] -3.305574         0.01\n",
       "10     [2, 4, 1, 3] -0.308622         0.01"
      ]
     },
     "execution_count": 25,
     "metadata": {},
     "output_type": "execute_result"
    }
   ],
   "source": [
    "boostrapping_result[\"causal-path\"]"
   ]
  },
  {
   "attachments": {},
   "cell_type": "markdown",
   "id": "07941684-277f-41b8-921f-5aa995c06b6b",
   "metadata": {},
   "source": [
    "### Causal Inference"
   ]
  },
  {
   "attachments": {},
   "cell_type": "markdown",
   "id": "1b73dc1f-2233-40a9-a3f5-d7dfcfe9e5a9",
   "metadata": {},
   "source": [
    "### crude oil price impacting on constellation\n",
    "\n",
    "And we know there are instrumental variables; anderson and natural gas\n",
    "\n",
    "We can double-check its path again."
   ]
  },
  {
   "cell_type": "code",
   "execution_count": 26,
   "id": "f8542366-db6c-48dc-819a-bfb89564126d",
   "metadata": {},
   "outputs": [
    {
     "data": {
      "image/svg+xml": [
       "<?xml version=\"1.0\" encoding=\"UTF-8\" standalone=\"no\"?>\n",
       "<!DOCTYPE svg PUBLIC \"-//W3C//DTD SVG 1.1//EN\"\n",
       " \"http://www.w3.org/Graphics/SVG/1.1/DTD/svg11.dtd\">\n",
       "<!-- Generated by graphviz version 4.0.0 (0)\n",
       " -->\n",
       "<!-- Pages: 1 -->\n",
       "<svg width=\"274pt\" height=\"305pt\"\n",
       " viewBox=\"0.00 0.00 274.00 305.00\" xmlns=\"http://www.w3.org/2000/svg\" xmlns:xlink=\"http://www.w3.org/1999/xlink\">\n",
       "<g id=\"graph0\" class=\"graph\" transform=\"scale(1 1) rotate(0) translate(4 301)\">\n",
       "<polygon fill=\"white\" stroke=\"transparent\" points=\"-4,4 -4,-301 270,-301 270,4 -4,4\"/>\n",
       "<!-- 1. anderson -->\n",
       "<g id=\"node1\" class=\"node\">\n",
       "<title>1. anderson</title>\n",
       "<ellipse fill=\"none\" stroke=\"black\" cx=\"52\" cy=\"-279\" rx=\"51.99\" ry=\"18\"/>\n",
       "<text text-anchor=\"middle\" x=\"52\" y=\"-275.3\" font-family=\"Times,serif\" font-size=\"14.00\">1. anderson</text>\n",
       "</g>\n",
       "<!-- 0. crude_oil -->\n",
       "<g id=\"node2\" class=\"node\">\n",
       "<title>0. crude_oil</title>\n",
       "<ellipse fill=\"none\" stroke=\"black\" cx=\"113\" cy=\"-192\" rx=\"53.09\" ry=\"18\"/>\n",
       "<text text-anchor=\"middle\" x=\"113\" y=\"-188.3\" font-family=\"Times,serif\" font-size=\"14.00\">0. crude_oil</text>\n",
       "</g>\n",
       "<!-- 1. anderson&#45;&gt;0. crude_oil -->\n",
       "<g id=\"edge1\" class=\"edge\">\n",
       "<title>1. anderson&#45;&gt;0. crude_oil</title>\n",
       "<path fill=\"none\" stroke=\"black\" d=\"M64.05,-261.21C72.9,-248.87 85.08,-231.89 95.08,-217.97\"/>\n",
       "<polygon fill=\"black\" stroke=\"black\" points=\"97.98,-219.92 100.97,-209.76 92.29,-215.84 97.98,-219.92\"/>\n",
       "<text text-anchor=\"middle\" x=\"98.5\" y=\"-231.8\" font-family=\"Times,serif\" font-size=\"14.00\">0.26</text>\n",
       "</g>\n",
       "<!-- 3. constellation -->\n",
       "<g id=\"node4\" class=\"node\">\n",
       "<title>3. constellation</title>\n",
       "<ellipse fill=\"none\" stroke=\"black\" cx=\"152\" cy=\"-18\" rx=\"64.99\" ry=\"18\"/>\n",
       "<text text-anchor=\"middle\" x=\"152\" y=\"-14.3\" font-family=\"Times,serif\" font-size=\"14.00\">3. constellation</text>\n",
       "</g>\n",
       "<!-- 1. anderson&#45;&gt;3. constellation -->\n",
       "<g id=\"edge4\" class=\"edge\">\n",
       "<title>1. anderson&#45;&gt;3. constellation</title>\n",
       "<path fill=\"none\" stroke=\"black\" d=\"M48.96,-260.69C45.93,-239.74 42.8,-203.58 51,-174 65.34,-122.22 104.06,-71.93 129.18,-43.29\"/>\n",
       "<polygon fill=\"black\" stroke=\"black\" points=\"131.81,-45.59 135.87,-35.81 126.59,-40.93 131.81,-45.59\"/>\n",
       "<text text-anchor=\"middle\" x=\"76.5\" y=\"-144.8\" font-family=\"Times,serif\" font-size=\"14.00\">0.28</text>\n",
       "</g>\n",
       "<!-- 0. crude_oil&#45;&gt;3. constellation -->\n",
       "<g id=\"edge3\" class=\"edge\">\n",
       "<title>0. crude_oil&#45;&gt;3. constellation</title>\n",
       "<path fill=\"none\" stroke=\"black\" d=\"M112.77,-173.78C112.89,-152.91 114.35,-116.84 122,-87 125.66,-72.7 132.04,-57.6 137.98,-45.27\"/>\n",
       "<polygon fill=\"black\" stroke=\"black\" points=\"141.25,-46.55 142.59,-36.04 134.99,-43.43 141.25,-46.55\"/>\n",
       "<text text-anchor=\"middle\" x=\"136.5\" y=\"-101.3\" font-family=\"Times,serif\" font-size=\"14.00\">&#45;1.00</text>\n",
       "</g>\n",
       "<!-- 4. usd -->\n",
       "<g id=\"node5\" class=\"node\">\n",
       "<title>4. usd</title>\n",
       "<ellipse fill=\"none\" stroke=\"black\" cx=\"192\" cy=\"-105\" rx=\"32.49\" ry=\"18\"/>\n",
       "<text text-anchor=\"middle\" x=\"192\" y=\"-101.3\" font-family=\"Times,serif\" font-size=\"14.00\">4. usd</text>\n",
       "</g>\n",
       "<!-- 0. crude_oil&#45;&gt;4. usd -->\n",
       "<g id=\"edge7\" class=\"edge\">\n",
       "<title>0. crude_oil&#45;&gt;4. usd</title>\n",
       "<path fill=\"none\" stroke=\"black\" d=\"M128.23,-174.61C140.26,-161.67 157.19,-143.45 170.59,-129.04\"/>\n",
       "<polygon fill=\"black\" stroke=\"black\" points=\"173.36,-131.19 177.61,-121.48 168.24,-126.42 173.36,-131.19\"/>\n",
       "<text text-anchor=\"middle\" x=\"169.5\" y=\"-144.8\" font-family=\"Times,serif\" font-size=\"14.00\">0.06</text>\n",
       "</g>\n",
       "<!-- 2. natural_gas -->\n",
       "<g id=\"node3\" class=\"node\">\n",
       "<title>2. natural_gas</title>\n",
       "<ellipse fill=\"none\" stroke=\"black\" cx=\"202\" cy=\"-279\" rx=\"60.39\" ry=\"18\"/>\n",
       "<text text-anchor=\"middle\" x=\"202\" y=\"-275.3\" font-family=\"Times,serif\" font-size=\"14.00\">2. natural_gas</text>\n",
       "</g>\n",
       "<!-- 2. natural_gas&#45;&gt;0. crude_oil -->\n",
       "<g id=\"edge2\" class=\"edge\">\n",
       "<title>2. natural_gas&#45;&gt;0. crude_oil</title>\n",
       "<path fill=\"none\" stroke=\"black\" d=\"M183.56,-261.82C177,-255.97 169.6,-249.26 163,-243 154.13,-234.6 144.59,-225.17 136.26,-216.79\"/>\n",
       "<polygon fill=\"black\" stroke=\"black\" points=\"138.51,-214.09 128.99,-209.44 133.53,-219.01 138.51,-214.09\"/>\n",
       "<text text-anchor=\"middle\" x=\"175.5\" y=\"-231.8\" font-family=\"Times,serif\" font-size=\"14.00\">5.12</text>\n",
       "</g>\n",
       "<!-- 2. natural_gas&#45;&gt;3. constellation -->\n",
       "<g id=\"edge5\" class=\"edge\">\n",
       "<title>2. natural_gas&#45;&gt;3. constellation</title>\n",
       "<path fill=\"none\" stroke=\"black\" d=\"M210.46,-261.04C226.27,-226.94 256.62,-148.1 233,-87 225.27,-67.02 207.77,-51.13 191,-39.75\"/>\n",
       "<polygon fill=\"black\" stroke=\"black\" points=\"192.66,-36.66 182.35,-34.21 188.88,-42.55 192.66,-36.66\"/>\n",
       "<text text-anchor=\"middle\" x=\"253.5\" y=\"-144.8\" font-family=\"Times,serif\" font-size=\"14.00\">7.50</text>\n",
       "</g>\n",
       "<!-- 2. natural_gas&#45;&gt;4. usd -->\n",
       "<g id=\"edge8\" class=\"edge\">\n",
       "<title>2. natural_gas&#45;&gt;4. usd</title>\n",
       "<path fill=\"none\" stroke=\"black\" d=\"M201,-260.88C199.26,-231 195.66,-169.11 193.58,-133.27\"/>\n",
       "<polygon fill=\"black\" stroke=\"black\" points=\"197.06,-132.83 192.99,-123.05 190.07,-133.24 197.06,-132.83\"/>\n",
       "<text text-anchor=\"middle\" x=\"209.5\" y=\"-188.3\" font-family=\"Times,serif\" font-size=\"14.00\">1.27</text>\n",
       "</g>\n",
       "<!-- 4. usd&#45;&gt;3. constellation -->\n",
       "<g id=\"edge6\" class=\"edge\">\n",
       "<title>4. usd&#45;&gt;3. constellation</title>\n",
       "<path fill=\"none\" stroke=\"black\" d=\"M184.09,-87.21C178.49,-75.29 170.85,-59.06 164.43,-45.42\"/>\n",
       "<polygon fill=\"black\" stroke=\"black\" points=\"167.44,-43.61 160.02,-36.05 161.11,-46.59 167.44,-43.61\"/>\n",
       "<text text-anchor=\"middle\" x=\"186.5\" y=\"-57.8\" font-family=\"Times,serif\" font-size=\"14.00\">0.47</text>\n",
       "</g>\n",
       "</g>\n",
       "</svg>\n"
      ],
      "text/plain": [
       "<graphviz.graphs.Digraph at 0x16d982af0>"
      ]
     },
     "execution_count": 26,
     "metadata": {},
     "output_type": "execute_result"
    }
   ],
   "source": [
    "dag"
   ]
  },
  {
   "attachments": {},
   "cell_type": "markdown",
   "id": "b64350e5-a401-452b-b6c9-4f40bfcd2486",
   "metadata": {},
   "source": [
    "### In dowhy, we set those instrumental variables, X and Y"
   ]
  },
  {
   "cell_type": "code",
   "execution_count": 27,
   "id": "37cc5d3a-99de-4259-bf65-65f2c51ba5da",
   "metadata": {},
   "outputs": [],
   "source": [
    "model = CausalModel(data = df_inference,\n",
    "                        treatment='0. crude_oil',\n",
    "                        outcome='3. constellation',\n",
    "                        common_causes=['U'],\n",
    "                        instrumental_variable = ['1. anderson', '2. natural_gas'],\n",
    "                        graph=str(dag))"
   ]
  },
  {
   "cell_type": "code",
   "execution_count": 28,
   "id": "af7e5b99-8de9-4ff2-8d82-19016a8f6c57",
   "metadata": {},
   "outputs": [
    {
     "name": "stdout",
     "output_type": "stream",
     "text": [
      "Estimand type: nonparametric-ate\n",
      "\n",
      "### Estimand : 1\n",
      "Estimand name: backdoor\n",
      "Estimand expression:\n",
      "      d                                                       \n",
      "──────────────(E[3. constellation|2. natural_gas,1. anderson])\n",
      "d[0. crudeₒᵢₗ]                                                \n",
      "Estimand assumption 1, Unconfoundedness: If U→{0. crude_oil} and U→3. constellation then P(3. constellation|0. crude_oil,2. natural_gas,1. anderson,U) = P(3. constellation|0. crude_oil,2. natural_gas,1. anderson)\n",
      "\n",
      "### Estimand : 2\n",
      "Estimand name: iv\n",
      "No such variable(s) found!\n",
      "\n",
      "### Estimand : 3\n",
      "Estimand name: frontdoor\n",
      "No such variable(s) found!\n",
      "\n"
     ]
    }
   ],
   "source": [
    "identified_estimand = model.identify_effect(proceed_when_unidentifiable=True)\n",
    "print(identified_estimand)"
   ]
  },
  {
   "attachments": {},
   "cell_type": "markdown",
   "id": "3498e649-2c19-41b7-82da-e9a4c26dc80c",
   "metadata": {},
   "source": [
    "### Estimation shows that the crude oil will have causal impact on constellation about -0.97\n",
    "\n",
    "It is quite close to what we had in causal discovery."
   ]
  },
  {
   "cell_type": "code",
   "execution_count": 29,
   "id": "a3dc7624",
   "metadata": {},
   "outputs": [
    {
     "name": "stdout",
     "output_type": "stream",
     "text": [
      "two_stage_regression\n",
      "Estimation failed! No relevant identified estimand available for this estimation method.\n"
     ]
    }
   ],
   "source": [
    "estimate = model.estimate_effect(identified_estimand,\n",
    "                                 method_name=\"frontdoor.two_stage_regression\")\n",
    "\n",
    "\n",
    "print(estimate)"
   ]
  },
  {
   "cell_type": "code",
   "execution_count": 30,
   "id": "3efbcb8f-7863-467f-ad9d-9b3dac8fae6d",
   "metadata": {},
   "outputs": [
    {
     "name": "stdout",
     "output_type": "stream",
     "text": [
      "linear_regression\n",
      "{'control_value': 0, 'treatment_value': 1, 'test_significance': None, 'evaluate_effect_strength': False, 'confidence_intervals': False, 'target_units': 'ate', 'effect_modifiers': []}\n",
      "*** Causal Estimate ***\n",
      "\n",
      "## Identified estimand\n",
      "Estimand type: nonparametric-ate\n",
      "\n",
      "### Estimand : 1\n",
      "Estimand name: backdoor\n",
      "Estimand expression:\n",
      "      d                                                       \n",
      "──────────────(E[3. constellation|2. natural_gas,1. anderson])\n",
      "d[0. crudeₒᵢₗ]                                                \n",
      "Estimand assumption 1, Unconfoundedness: If U→{0. crude_oil} and U→3. constellation then P(3. constellation|0. crude_oil,2. natural_gas,1. anderson,U) = P(3. constellation|0. crude_oil,2. natural_gas,1. anderson)\n",
      "\n",
      "## Realized estimand\n",
      "b: 3. constellation~0. crude_oil+2. natural_gas+1. anderson\n",
      "Target units: ate\n",
      "\n",
      "## Estimate\n",
      "Mean value: -0.9724012012588332\n",
      "\n"
     ]
    }
   ],
   "source": [
    "estimate = model.estimate_effect(identified_estimand,\n",
    "                                 method_name=\"backdoor.linear_regression\") # for matching, backdoor.distance_matching\n",
    "\n",
    "\n",
    "print(estimate)"
   ]
  },
  {
   "cell_type": "code",
   "execution_count": 31,
   "id": "654fa3d7",
   "metadata": {},
   "outputs": [
    {
     "name": "stdout",
     "output_type": "stream",
     "text": [
      "distance_matching\n"
     ]
    },
    {
     "ename": "Exception",
     "evalue": "Distance Matching method is applicable only for binary treatments",
     "output_type": "error",
     "traceback": [
      "\u001b[0;31m---------------------------------------------------------------------------\u001b[0m",
      "\u001b[0;31mException\u001b[0m                                 Traceback (most recent call last)",
      "\u001b[1;32m/Users/yongwoojeong/Documents/Rowan/Seminar Series/Causality - Step1/Causal Discovery to Inference/ukraine-war-causal-discovery-original.ipynb Cell 42\u001b[0m line \u001b[0;36m<cell line: 1>\u001b[0;34m()\u001b[0m\n\u001b[0;32m----> <a href='vscode-notebook-cell:/Users/yongwoojeong/Documents/Rowan/Seminar%20Series/Causality%20-%20Step1/Causal%20Discovery%20to%20Inference/ukraine-war-causal-discovery-original.ipynb#X56sZmlsZQ%3D%3D?line=0'>1</a>\u001b[0m estimate \u001b[39m=\u001b[39m model\u001b[39m.\u001b[39;49mestimate_effect(identified_estimand,\n\u001b[1;32m      <a href='vscode-notebook-cell:/Users/yongwoojeong/Documents/Rowan/Seminar%20Series/Causality%20-%20Step1/Causal%20Discovery%20to%20Inference/ukraine-war-causal-discovery-original.ipynb#X56sZmlsZQ%3D%3D?line=1'>2</a>\u001b[0m                                  method_name\u001b[39m=\u001b[39;49m\u001b[39m\"\u001b[39;49m\u001b[39mbackdoor.distance_matching\u001b[39;49m\u001b[39m\"\u001b[39;49m) \u001b[39m# for matching and binary, use backdoor.distance_matching\u001b[39;00m\n\u001b[1;32m      <a href='vscode-notebook-cell:/Users/yongwoojeong/Documents/Rowan/Seminar%20Series/Causality%20-%20Step1/Causal%20Discovery%20to%20Inference/ukraine-war-causal-discovery-original.ipynb#X56sZmlsZQ%3D%3D?line=4'>5</a>\u001b[0m \u001b[39mprint\u001b[39m(estimate)\n",
      "File \u001b[0;32m~/miniforge3/envs/econml/lib/python3.8/site-packages/dowhy/causal_model.py:297\u001b[0m, in \u001b[0;36mCausalModel.estimate_effect\u001b[0;34m(self, identified_estimand, method_name, control_value, treatment_value, test_significance, evaluate_effect_strength, confidence_intervals, target_units, effect_modifiers, fit_estimator, method_params)\u001b[0m\n\u001b[1;32m    295\u001b[0m     \u001b[39mif\u001b[39;00m method_params \u001b[39mis\u001b[39;00m \u001b[39mNone\u001b[39;00m:\n\u001b[1;32m    296\u001b[0m         method_params \u001b[39m=\u001b[39m {}\n\u001b[0;32m--> 297\u001b[0m     \u001b[39mself\u001b[39m\u001b[39m.\u001b[39mcausal_estimator \u001b[39m=\u001b[39m causal_estimator_class(\n\u001b[1;32m    298\u001b[0m         \u001b[39mself\u001b[39;49m\u001b[39m.\u001b[39;49m_data,\n\u001b[1;32m    299\u001b[0m         identified_estimand,\n\u001b[1;32m    300\u001b[0m         \u001b[39mself\u001b[39;49m\u001b[39m.\u001b[39;49m_treatment, \u001b[39mself\u001b[39;49m\u001b[39m.\u001b[39;49m_outcome, \u001b[39m#names of treatment and outcome\u001b[39;49;00m\n\u001b[1;32m    301\u001b[0m         control_value \u001b[39m=\u001b[39;49m control_value,\n\u001b[1;32m    302\u001b[0m         treatment_value \u001b[39m=\u001b[39;49m treatment_value,\n\u001b[1;32m    303\u001b[0m         test_significance\u001b[39m=\u001b[39;49mtest_significance,\n\u001b[1;32m    304\u001b[0m         evaluate_effect_strength\u001b[39m=\u001b[39;49mevaluate_effect_strength,\n\u001b[1;32m    305\u001b[0m         confidence_intervals \u001b[39m=\u001b[39;49m confidence_intervals,\n\u001b[1;32m    306\u001b[0m         target_units \u001b[39m=\u001b[39;49m target_units,\n\u001b[1;32m    307\u001b[0m         effect_modifiers \u001b[39m=\u001b[39;49m effect_modifiers,\n\u001b[1;32m    308\u001b[0m         \u001b[39m*\u001b[39;49m\u001b[39m*\u001b[39;49mmethod_params,\n\u001b[1;32m    309\u001b[0m         \u001b[39m*\u001b[39;49m\u001b[39m*\u001b[39;49mextra_args)\n\u001b[1;32m    310\u001b[0m \u001b[39melse\u001b[39;00m:\n\u001b[1;32m    311\u001b[0m     \u001b[39m# Estimator had been computed in a previous call\u001b[39;00m\n\u001b[1;32m    312\u001b[0m     \u001b[39massert\u001b[39;00m \u001b[39mself\u001b[39m\u001b[39m.\u001b[39mcausal_estimator \u001b[39mis\u001b[39;00m \u001b[39mnot\u001b[39;00m \u001b[39mNone\u001b[39;00m\n",
      "File \u001b[0;32m~/miniforge3/envs/econml/lib/python3.8/site-packages/dowhy/causal_estimators/distance_matching_estimator.py:45\u001b[0m, in \u001b[0;36mDistanceMatchingEstimator.__init__\u001b[0;34m(self, num_matches_per_unit, distance_metric, exact_match_cols, *args, **kwargs)\u001b[0m\n\u001b[1;32m     43\u001b[0m     error_msg \u001b[39m=\u001b[39m \u001b[39m\"\u001b[39m\u001b[39mDistance Matching method is applicable only for binary treatments\u001b[39m\u001b[39m\"\u001b[39m\n\u001b[1;32m     44\u001b[0m     \u001b[39mself\u001b[39m\u001b[39m.\u001b[39mlogger\u001b[39m.\u001b[39merror(error_msg)\n\u001b[0;32m---> 45\u001b[0m     \u001b[39mraise\u001b[39;00m \u001b[39mException\u001b[39;00m(error_msg)\n\u001b[1;32m     47\u001b[0m \u001b[39mself\u001b[39m\u001b[39m.\u001b[39mnum_matches_per_unit \u001b[39m=\u001b[39m num_matches_per_unit\n\u001b[1;32m     48\u001b[0m \u001b[39mself\u001b[39m\u001b[39m.\u001b[39mdistance_metric \u001b[39m=\u001b[39m distance_metric\n",
      "\u001b[0;31mException\u001b[0m: Distance Matching method is applicable only for binary treatments"
     ]
    }
   ],
   "source": [
    "estimate = model.estimate_effect(identified_estimand,\n",
    "                                 method_name=\"backdoor.distance_matching\") # for matching and binary, use backdoor.distance_matching\n",
    "\n",
    "\n",
    "print(estimate)"
   ]
  },
  {
   "attachments": {},
   "cell_type": "markdown",
   "id": "a3936fa3-62da-4f9d-b1e9-9081ab6baacc",
   "metadata": {},
   "source": [
    "### Now our null hypothesis is made.\n",
    "\n",
    "We want to refute my null hypothesis and confirm that our hypothesis is well made.\n",
    "\n",
    "In this process we will refute our model via 3 processes\n",
    "\n",
    "1. random common cause\n",
    "\n",
    "2. placebo\n",
    "3. data subset reduction\n",
    "\n",
    "If P value is bigger than 0.05, our null hypothesis is accepted."
   ]
  },
  {
   "attachments": {},
   "cell_type": "markdown",
   "id": "d1dbf00f-6981-416c-9d92-90bdeb59323f",
   "metadata": {},
   "source": [
    "### Refute \n",
    "1. random common cause"
   ]
  },
  {
   "cell_type": "code",
   "execution_count": 32,
   "id": "34363c1d-63eb-4b75-a70f-dce69e42d5d3",
   "metadata": {},
   "outputs": [
    {
     "name": "stdout",
     "output_type": "stream",
     "text": [
      "{'control_value': 0, 'treatment_value': 1, 'test_significance': False, 'evaluate_effect_strength': False, 'confidence_intervals': False, 'target_units': 'ate', 'effect_modifiers': []}\n",
      "{'control_value': 0, 'treatment_value': 1, 'test_significance': False, 'evaluate_effect_strength': False, 'confidence_intervals': False, 'target_units': 'ate', 'effect_modifiers': []}\n",
      "{'control_value': 0, 'treatment_value': 1, 'test_significance': False, 'evaluate_effect_strength': False, 'confidence_intervals': False, 'target_units': 'ate', 'effect_modifiers': []}\n",
      "{'control_value': 0, 'treatment_value': 1, 'test_significance': False, 'evaluate_effect_strength': False, 'confidence_intervals': False, 'target_units': 'ate', 'effect_modifiers': []}\n",
      "{'control_value': 0, 'treatment_value': 1, 'test_significance': False, 'evaluate_effect_strength': False, 'confidence_intervals': False, 'target_units': 'ate', 'effect_modifiers': []}\n",
      "{'control_value': 0, 'treatment_value': 1, 'test_significance': False, 'evaluate_effect_strength': False, 'confidence_intervals': False, 'target_units': 'ate', 'effect_modifiers': []}\n",
      "{'control_value': 0, 'treatment_value': 1, 'test_significance': False, 'evaluate_effect_strength': False, 'confidence_intervals': False, 'target_units': 'ate', 'effect_modifiers': []}\n",
      "{'control_value': 0, 'treatment_value': 1, 'test_significance': False, 'evaluate_effect_strength': False, 'confidence_intervals': False, 'target_units': 'ate', 'effect_modifiers': []}\n",
      "{'control_value': 0, 'treatment_value': 1, 'test_significance': False, 'evaluate_effect_strength': False, 'confidence_intervals': False, 'target_units': 'ate', 'effect_modifiers': []}\n",
      "{'control_value': 0, 'treatment_value': 1, 'test_significance': False, 'evaluate_effect_strength': False, 'confidence_intervals': False, 'target_units': 'ate', 'effect_modifiers': []}\n",
      "{'control_value': 0, 'treatment_value': 1, 'test_significance': False, 'evaluate_effect_strength': False, 'confidence_intervals': False, 'target_units': 'ate', 'effect_modifiers': []}\n",
      "{'control_value': 0, 'treatment_value': 1, 'test_significance': False, 'evaluate_effect_strength': False, 'confidence_intervals': False, 'target_units': 'ate', 'effect_modifiers': []}\n",
      "{'control_value': 0, 'treatment_value': 1, 'test_significance': False, 'evaluate_effect_strength': False, 'confidence_intervals': False, 'target_units': 'ate', 'effect_modifiers': []}\n",
      "{'control_value': 0, 'treatment_value': 1, 'test_significance': False, 'evaluate_effect_strength': False, 'confidence_intervals': False, 'target_units': 'ate', 'effect_modifiers': []}\n",
      "{'control_value': 0, 'treatment_value': 1, 'test_significance': False, 'evaluate_effect_strength': False, 'confidence_intervals': False, 'target_units': 'ate', 'effect_modifiers': []}\n",
      "{'control_value': 0, 'treatment_value': 1, 'test_significance': False, 'evaluate_effect_strength': False, 'confidence_intervals': False, 'target_units': 'ate', 'effect_modifiers': []}\n",
      "{'control_value': 0, 'treatment_value': 1, 'test_significance': False, 'evaluate_effect_strength': False, 'confidence_intervals': False, 'target_units': 'ate', 'effect_modifiers': []}\n",
      "{'control_value': 0, 'treatment_value': 1, 'test_significance': False, 'evaluate_effect_strength': False, 'confidence_intervals': False, 'target_units': 'ate', 'effect_modifiers': []}\n",
      "{'control_value': 0, 'treatment_value': 1, 'test_significance': False, 'evaluate_effect_strength': False, 'confidence_intervals': False, 'target_units': 'ate', 'effect_modifiers': []}\n",
      "{'control_value': 0, 'treatment_value': 1, 'test_significance': False, 'evaluate_effect_strength': False, 'confidence_intervals': False, 'target_units': 'ate', 'effect_modifiers': []}\n",
      "{'control_value': 0, 'treatment_value': 1, 'test_significance': False, 'evaluate_effect_strength': False, 'confidence_intervals': False, 'target_units': 'ate', 'effect_modifiers': []}\n",
      "{'control_value': 0, 'treatment_value': 1, 'test_significance': False, 'evaluate_effect_strength': False, 'confidence_intervals': False, 'target_units': 'ate', 'effect_modifiers': []}\n",
      "{'control_value': 0, 'treatment_value': 1, 'test_significance': False, 'evaluate_effect_strength': False, 'confidence_intervals': False, 'target_units': 'ate', 'effect_modifiers': []}\n",
      "{'control_value': 0, 'treatment_value': 1, 'test_significance': False, 'evaluate_effect_strength': False, 'confidence_intervals': False, 'target_units': 'ate', 'effect_modifiers': []}\n",
      "{'control_value': 0, 'treatment_value': 1, 'test_significance': False, 'evaluate_effect_strength': False, 'confidence_intervals': False, 'target_units': 'ate', 'effect_modifiers': []}\n",
      "{'control_value': 0, 'treatment_value': 1, 'test_significance': False, 'evaluate_effect_strength': False, 'confidence_intervals': False, 'target_units': 'ate', 'effect_modifiers': []}\n",
      "{'control_value': 0, 'treatment_value': 1, 'test_significance': False, 'evaluate_effect_strength': False, 'confidence_intervals': False, 'target_units': 'ate', 'effect_modifiers': []}\n",
      "{'control_value': 0, 'treatment_value': 1, 'test_significance': False, 'evaluate_effect_strength': False, 'confidence_intervals': False, 'target_units': 'ate', 'effect_modifiers': []}\n",
      "{'control_value': 0, 'treatment_value': 1, 'test_significance': False, 'evaluate_effect_strength': False, 'confidence_intervals': False, 'target_units': 'ate', 'effect_modifiers': []}\n",
      "{'control_value': 0, 'treatment_value': 1, 'test_significance': False, 'evaluate_effect_strength': False, 'confidence_intervals': False, 'target_units': 'ate', 'effect_modifiers': []}\n",
      "{'control_value': 0, 'treatment_value': 1, 'test_significance': False, 'evaluate_effect_strength': False, 'confidence_intervals': False, 'target_units': 'ate', 'effect_modifiers': []}\n",
      "{'control_value': 0, 'treatment_value': 1, 'test_significance': False, 'evaluate_effect_strength': False, 'confidence_intervals': False, 'target_units': 'ate', 'effect_modifiers': []}\n",
      "{'control_value': 0, 'treatment_value': 1, 'test_significance': False, 'evaluate_effect_strength': False, 'confidence_intervals': False, 'target_units': 'ate', 'effect_modifiers': []}\n",
      "{'control_value': 0, 'treatment_value': 1, 'test_significance': False, 'evaluate_effect_strength': False, 'confidence_intervals': False, 'target_units': 'ate', 'effect_modifiers': []}\n",
      "{'control_value': 0, 'treatment_value': 1, 'test_significance': False, 'evaluate_effect_strength': False, 'confidence_intervals': False, 'target_units': 'ate', 'effect_modifiers': []}\n",
      "{'control_value': 0, 'treatment_value': 1, 'test_significance': False, 'evaluate_effect_strength': False, 'confidence_intervals': False, 'target_units': 'ate', 'effect_modifiers': []}\n",
      "{'control_value': 0, 'treatment_value': 1, 'test_significance': False, 'evaluate_effect_strength': False, 'confidence_intervals': False, 'target_units': 'ate', 'effect_modifiers': []}\n",
      "{'control_value': 0, 'treatment_value': 1, 'test_significance': False, 'evaluate_effect_strength': False, 'confidence_intervals': False, 'target_units': 'ate', 'effect_modifiers': []}\n",
      "{'control_value': 0, 'treatment_value': 1, 'test_significance': False, 'evaluate_effect_strength': False, 'confidence_intervals': False, 'target_units': 'ate', 'effect_modifiers': []}\n",
      "{'control_value': 0, 'treatment_value': 1, 'test_significance': False, 'evaluate_effect_strength': False, 'confidence_intervals': False, 'target_units': 'ate', 'effect_modifiers': []}\n",
      "{'control_value': 0, 'treatment_value': 1, 'test_significance': False, 'evaluate_effect_strength': False, 'confidence_intervals': False, 'target_units': 'ate', 'effect_modifiers': []}\n",
      "{'control_value': 0, 'treatment_value': 1, 'test_significance': False, 'evaluate_effect_strength': False, 'confidence_intervals': False, 'target_units': 'ate', 'effect_modifiers': []}\n",
      "{'control_value': 0, 'treatment_value': 1, 'test_significance': False, 'evaluate_effect_strength': False, 'confidence_intervals': False, 'target_units': 'ate', 'effect_modifiers': []}\n",
      "{'control_value': 0, 'treatment_value': 1, 'test_significance': False, 'evaluate_effect_strength': False, 'confidence_intervals': False, 'target_units': 'ate', 'effect_modifiers': []}\n",
      "{'control_value': 0, 'treatment_value': 1, 'test_significance': False, 'evaluate_effect_strength': False, 'confidence_intervals': False, 'target_units': 'ate', 'effect_modifiers': []}\n",
      "{'control_value': 0, 'treatment_value': 1, 'test_significance': False, 'evaluate_effect_strength': False, 'confidence_intervals': False, 'target_units': 'ate', 'effect_modifiers': []}\n",
      "{'control_value': 0, 'treatment_value': 1, 'test_significance': False, 'evaluate_effect_strength': False, 'confidence_intervals': False, 'target_units': 'ate', 'effect_modifiers': []}\n",
      "{'control_value': 0, 'treatment_value': 1, 'test_significance': False, 'evaluate_effect_strength': False, 'confidence_intervals': False, 'target_units': 'ate', 'effect_modifiers': []}\n",
      "{'control_value': 0, 'treatment_value': 1, 'test_significance': False, 'evaluate_effect_strength': False, 'confidence_intervals': False, 'target_units': 'ate', 'effect_modifiers': []}\n",
      "{'control_value': 0, 'treatment_value': 1, 'test_significance': False, 'evaluate_effect_strength': False, 'confidence_intervals': False, 'target_units': 'ate', 'effect_modifiers': []}\n",
      "{'control_value': 0, 'treatment_value': 1, 'test_significance': False, 'evaluate_effect_strength': False, 'confidence_intervals': False, 'target_units': 'ate', 'effect_modifiers': []}\n",
      "{'control_value': 0, 'treatment_value': 1, 'test_significance': False, 'evaluate_effect_strength': False, 'confidence_intervals': False, 'target_units': 'ate', 'effect_modifiers': []}\n",
      "{'control_value': 0, 'treatment_value': 1, 'test_significance': False, 'evaluate_effect_strength': False, 'confidence_intervals': False, 'target_units': 'ate', 'effect_modifiers': []}\n",
      "{'control_value': 0, 'treatment_value': 1, 'test_significance': False, 'evaluate_effect_strength': False, 'confidence_intervals': False, 'target_units': 'ate', 'effect_modifiers': []}\n",
      "{'control_value': 0, 'treatment_value': 1, 'test_significance': False, 'evaluate_effect_strength': False, 'confidence_intervals': False, 'target_units': 'ate', 'effect_modifiers': []}\n",
      "{'control_value': 0, 'treatment_value': 1, 'test_significance': False, 'evaluate_effect_strength': False, 'confidence_intervals': False, 'target_units': 'ate', 'effect_modifiers': []}\n",
      "{'control_value': 0, 'treatment_value': 1, 'test_significance': False, 'evaluate_effect_strength': False, 'confidence_intervals': False, 'target_units': 'ate', 'effect_modifiers': []}\n",
      "{'control_value': 0, 'treatment_value': 1, 'test_significance': False, 'evaluate_effect_strength': False, 'confidence_intervals': False, 'target_units': 'ate', 'effect_modifiers': []}\n",
      "{'control_value': 0, 'treatment_value': 1, 'test_significance': False, 'evaluate_effect_strength': False, 'confidence_intervals': False, 'target_units': 'ate', 'effect_modifiers': []}\n",
      "{'control_value': 0, 'treatment_value': 1, 'test_significance': False, 'evaluate_effect_strength': False, 'confidence_intervals': False, 'target_units': 'ate', 'effect_modifiers': []}\n",
      "{'control_value': 0, 'treatment_value': 1, 'test_significance': False, 'evaluate_effect_strength': False, 'confidence_intervals': False, 'target_units': 'ate', 'effect_modifiers': []}\n",
      "{'control_value': 0, 'treatment_value': 1, 'test_significance': False, 'evaluate_effect_strength': False, 'confidence_intervals': False, 'target_units': 'ate', 'effect_modifiers': []}\n",
      "{'control_value': 0, 'treatment_value': 1, 'test_significance': False, 'evaluate_effect_strength': False, 'confidence_intervals': False, 'target_units': 'ate', 'effect_modifiers': []}\n",
      "{'control_value': 0, 'treatment_value': 1, 'test_significance': False, 'evaluate_effect_strength': False, 'confidence_intervals': False, 'target_units': 'ate', 'effect_modifiers': []}\n",
      "{'control_value': 0, 'treatment_value': 1, 'test_significance': False, 'evaluate_effect_strength': False, 'confidence_intervals': False, 'target_units': 'ate', 'effect_modifiers': []}\n",
      "{'control_value': 0, 'treatment_value': 1, 'test_significance': False, 'evaluate_effect_strength': False, 'confidence_intervals': False, 'target_units': 'ate', 'effect_modifiers': []}\n",
      "{'control_value': 0, 'treatment_value': 1, 'test_significance': False, 'evaluate_effect_strength': False, 'confidence_intervals': False, 'target_units': 'ate', 'effect_modifiers': []}\n",
      "{'control_value': 0, 'treatment_value': 1, 'test_significance': False, 'evaluate_effect_strength': False, 'confidence_intervals': False, 'target_units': 'ate', 'effect_modifiers': []}\n",
      "{'control_value': 0, 'treatment_value': 1, 'test_significance': False, 'evaluate_effect_strength': False, 'confidence_intervals': False, 'target_units': 'ate', 'effect_modifiers': []}\n",
      "{'control_value': 0, 'treatment_value': 1, 'test_significance': False, 'evaluate_effect_strength': False, 'confidence_intervals': False, 'target_units': 'ate', 'effect_modifiers': []}\n",
      "{'control_value': 0, 'treatment_value': 1, 'test_significance': False, 'evaluate_effect_strength': False, 'confidence_intervals': False, 'target_units': 'ate', 'effect_modifiers': []}\n",
      "{'control_value': 0, 'treatment_value': 1, 'test_significance': False, 'evaluate_effect_strength': False, 'confidence_intervals': False, 'target_units': 'ate', 'effect_modifiers': []}\n",
      "{'control_value': 0, 'treatment_value': 1, 'test_significance': False, 'evaluate_effect_strength': False, 'confidence_intervals': False, 'target_units': 'ate', 'effect_modifiers': []}\n",
      "{'control_value': 0, 'treatment_value': 1, 'test_significance': False, 'evaluate_effect_strength': False, 'confidence_intervals': False, 'target_units': 'ate', 'effect_modifiers': []}\n",
      "{'control_value': 0, 'treatment_value': 1, 'test_significance': False, 'evaluate_effect_strength': False, 'confidence_intervals': False, 'target_units': 'ate', 'effect_modifiers': []}\n",
      "{'control_value': 0, 'treatment_value': 1, 'test_significance': False, 'evaluate_effect_strength': False, 'confidence_intervals': False, 'target_units': 'ate', 'effect_modifiers': []}\n",
      "{'control_value': 0, 'treatment_value': 1, 'test_significance': False, 'evaluate_effect_strength': False, 'confidence_intervals': False, 'target_units': 'ate', 'effect_modifiers': []}\n",
      "{'control_value': 0, 'treatment_value': 1, 'test_significance': False, 'evaluate_effect_strength': False, 'confidence_intervals': False, 'target_units': 'ate', 'effect_modifiers': []}\n",
      "{'control_value': 0, 'treatment_value': 1, 'test_significance': False, 'evaluate_effect_strength': False, 'confidence_intervals': False, 'target_units': 'ate', 'effect_modifiers': []}\n",
      "{'control_value': 0, 'treatment_value': 1, 'test_significance': False, 'evaluate_effect_strength': False, 'confidence_intervals': False, 'target_units': 'ate', 'effect_modifiers': []}\n",
      "{'control_value': 0, 'treatment_value': 1, 'test_significance': False, 'evaluate_effect_strength': False, 'confidence_intervals': False, 'target_units': 'ate', 'effect_modifiers': []}\n",
      "{'control_value': 0, 'treatment_value': 1, 'test_significance': False, 'evaluate_effect_strength': False, 'confidence_intervals': False, 'target_units': 'ate', 'effect_modifiers': []}\n",
      "{'control_value': 0, 'treatment_value': 1, 'test_significance': False, 'evaluate_effect_strength': False, 'confidence_intervals': False, 'target_units': 'ate', 'effect_modifiers': []}\n",
      "{'control_value': 0, 'treatment_value': 1, 'test_significance': False, 'evaluate_effect_strength': False, 'confidence_intervals': False, 'target_units': 'ate', 'effect_modifiers': []}\n",
      "{'control_value': 0, 'treatment_value': 1, 'test_significance': False, 'evaluate_effect_strength': False, 'confidence_intervals': False, 'target_units': 'ate', 'effect_modifiers': []}\n",
      "{'control_value': 0, 'treatment_value': 1, 'test_significance': False, 'evaluate_effect_strength': False, 'confidence_intervals': False, 'target_units': 'ate', 'effect_modifiers': []}\n",
      "{'control_value': 0, 'treatment_value': 1, 'test_significance': False, 'evaluate_effect_strength': False, 'confidence_intervals': False, 'target_units': 'ate', 'effect_modifiers': []}\n",
      "{'control_value': 0, 'treatment_value': 1, 'test_significance': False, 'evaluate_effect_strength': False, 'confidence_intervals': False, 'target_units': 'ate', 'effect_modifiers': []}\n",
      "{'control_value': 0, 'treatment_value': 1, 'test_significance': False, 'evaluate_effect_strength': False, 'confidence_intervals': False, 'target_units': 'ate', 'effect_modifiers': []}\n",
      "{'control_value': 0, 'treatment_value': 1, 'test_significance': False, 'evaluate_effect_strength': False, 'confidence_intervals': False, 'target_units': 'ate', 'effect_modifiers': []}\n",
      "{'control_value': 0, 'treatment_value': 1, 'test_significance': False, 'evaluate_effect_strength': False, 'confidence_intervals': False, 'target_units': 'ate', 'effect_modifiers': []}\n",
      "{'control_value': 0, 'treatment_value': 1, 'test_significance': False, 'evaluate_effect_strength': False, 'confidence_intervals': False, 'target_units': 'ate', 'effect_modifiers': []}\n",
      "{'control_value': 0, 'treatment_value': 1, 'test_significance': False, 'evaluate_effect_strength': False, 'confidence_intervals': False, 'target_units': 'ate', 'effect_modifiers': []}\n",
      "{'control_value': 0, 'treatment_value': 1, 'test_significance': False, 'evaluate_effect_strength': False, 'confidence_intervals': False, 'target_units': 'ate', 'effect_modifiers': []}\n",
      "{'control_value': 0, 'treatment_value': 1, 'test_significance': False, 'evaluate_effect_strength': False, 'confidence_intervals': False, 'target_units': 'ate', 'effect_modifiers': []}\n",
      "{'control_value': 0, 'treatment_value': 1, 'test_significance': False, 'evaluate_effect_strength': False, 'confidence_intervals': False, 'target_units': 'ate', 'effect_modifiers': []}\n",
      "{'control_value': 0, 'treatment_value': 1, 'test_significance': False, 'evaluate_effect_strength': False, 'confidence_intervals': False, 'target_units': 'ate', 'effect_modifiers': []}\n",
      "{'control_value': 0, 'treatment_value': 1, 'test_significance': False, 'evaluate_effect_strength': False, 'confidence_intervals': False, 'target_units': 'ate', 'effect_modifiers': []}\n",
      "{'control_value': 0, 'treatment_value': 1, 'test_significance': False, 'evaluate_effect_strength': False, 'confidence_intervals': False, 'target_units': 'ate', 'effect_modifiers': []}\n",
      "{'control_value': 0, 'treatment_value': 1, 'test_significance': False, 'evaluate_effect_strength': False, 'confidence_intervals': False, 'target_units': 'ate', 'effect_modifiers': []}\n",
      "Refute: Add a random common cause\n",
      "Estimated effect:-0.9724012012588332\n",
      "New effect:-0.9726681016313818\n",
      "p value:0.44999999999999996\n",
      "\n"
     ]
    }
   ],
   "source": [
    "res_random = model.refute_estimate(identified_estimand, estimate, method_name=\"random_common_cause\")\n",
    "print(res_random)"
   ]
  },
  {
   "attachments": {},
   "cell_type": "markdown",
   "id": "fe496049-fa6c-48b9-8f50-1d2beabd5c4e",
   "metadata": {},
   "source": [
    "2. placebo "
   ]
  },
  {
   "cell_type": "code",
   "execution_count": 33,
   "id": "d6228b6a-f235-4a6c-8d2b-c153d2a34d4b",
   "metadata": {},
   "outputs": [
    {
     "name": "stdout",
     "output_type": "stream",
     "text": [
      "{'control_value': 0, 'treatment_value': 1, 'test_significance': False, 'evaluate_effect_strength': False, 'confidence_intervals': False, 'target_units': 'ate', 'effect_modifiers': []}\n",
      "{'control_value': 0, 'treatment_value': 1, 'test_significance': False, 'evaluate_effect_strength': False, 'confidence_intervals': False, 'target_units': 'ate', 'effect_modifiers': []}\n",
      "{'control_value': 0, 'treatment_value': 1, 'test_significance': False, 'evaluate_effect_strength': False, 'confidence_intervals': False, 'target_units': 'ate', 'effect_modifiers': []}\n",
      "{'control_value': 0, 'treatment_value': 1, 'test_significance': False, 'evaluate_effect_strength': False, 'confidence_intervals': False, 'target_units': 'ate', 'effect_modifiers': []}\n",
      "{'control_value': 0, 'treatment_value': 1, 'test_significance': False, 'evaluate_effect_strength': False, 'confidence_intervals': False, 'target_units': 'ate', 'effect_modifiers': []}\n",
      "{'control_value': 0, 'treatment_value': 1, 'test_significance': False, 'evaluate_effect_strength': False, 'confidence_intervals': False, 'target_units': 'ate', 'effect_modifiers': []}\n",
      "{'control_value': 0, 'treatment_value': 1, 'test_significance': False, 'evaluate_effect_strength': False, 'confidence_intervals': False, 'target_units': 'ate', 'effect_modifiers': []}\n",
      "{'control_value': 0, 'treatment_value': 1, 'test_significance': False, 'evaluate_effect_strength': False, 'confidence_intervals': False, 'target_units': 'ate', 'effect_modifiers': []}\n",
      "{'control_value': 0, 'treatment_value': 1, 'test_significance': False, 'evaluate_effect_strength': False, 'confidence_intervals': False, 'target_units': 'ate', 'effect_modifiers': []}\n",
      "{'control_value': 0, 'treatment_value': 1, 'test_significance': False, 'evaluate_effect_strength': False, 'confidence_intervals': False, 'target_units': 'ate', 'effect_modifiers': []}\n",
      "{'control_value': 0, 'treatment_value': 1, 'test_significance': False, 'evaluate_effect_strength': False, 'confidence_intervals': False, 'target_units': 'ate', 'effect_modifiers': []}\n",
      "{'control_value': 0, 'treatment_value': 1, 'test_significance': False, 'evaluate_effect_strength': False, 'confidence_intervals': False, 'target_units': 'ate', 'effect_modifiers': []}\n",
      "{'control_value': 0, 'treatment_value': 1, 'test_significance': False, 'evaluate_effect_strength': False, 'confidence_intervals': False, 'target_units': 'ate', 'effect_modifiers': []}\n",
      "{'control_value': 0, 'treatment_value': 1, 'test_significance': False, 'evaluate_effect_strength': False, 'confidence_intervals': False, 'target_units': 'ate', 'effect_modifiers': []}\n",
      "{'control_value': 0, 'treatment_value': 1, 'test_significance': False, 'evaluate_effect_strength': False, 'confidence_intervals': False, 'target_units': 'ate', 'effect_modifiers': []}\n",
      "{'control_value': 0, 'treatment_value': 1, 'test_significance': False, 'evaluate_effect_strength': False, 'confidence_intervals': False, 'target_units': 'ate', 'effect_modifiers': []}\n",
      "{'control_value': 0, 'treatment_value': 1, 'test_significance': False, 'evaluate_effect_strength': False, 'confidence_intervals': False, 'target_units': 'ate', 'effect_modifiers': []}\n",
      "{'control_value': 0, 'treatment_value': 1, 'test_significance': False, 'evaluate_effect_strength': False, 'confidence_intervals': False, 'target_units': 'ate', 'effect_modifiers': []}\n",
      "{'control_value': 0, 'treatment_value': 1, 'test_significance': False, 'evaluate_effect_strength': False, 'confidence_intervals': False, 'target_units': 'ate', 'effect_modifiers': []}\n",
      "{'control_value': 0, 'treatment_value': 1, 'test_significance': False, 'evaluate_effect_strength': False, 'confidence_intervals': False, 'target_units': 'ate', 'effect_modifiers': []}\n",
      "{'control_value': 0, 'treatment_value': 1, 'test_significance': False, 'evaluate_effect_strength': False, 'confidence_intervals': False, 'target_units': 'ate', 'effect_modifiers': []}\n",
      "{'control_value': 0, 'treatment_value': 1, 'test_significance': False, 'evaluate_effect_strength': False, 'confidence_intervals': False, 'target_units': 'ate', 'effect_modifiers': []}\n",
      "{'control_value': 0, 'treatment_value': 1, 'test_significance': False, 'evaluate_effect_strength': False, 'confidence_intervals': False, 'target_units': 'ate', 'effect_modifiers': []}\n",
      "{'control_value': 0, 'treatment_value': 1, 'test_significance': False, 'evaluate_effect_strength': False, 'confidence_intervals': False, 'target_units': 'ate', 'effect_modifiers': []}\n",
      "{'control_value': 0, 'treatment_value': 1, 'test_significance': False, 'evaluate_effect_strength': False, 'confidence_intervals': False, 'target_units': 'ate', 'effect_modifiers': []}\n",
      "{'control_value': 0, 'treatment_value': 1, 'test_significance': False, 'evaluate_effect_strength': False, 'confidence_intervals': False, 'target_units': 'ate', 'effect_modifiers': []}\n",
      "{'control_value': 0, 'treatment_value': 1, 'test_significance': False, 'evaluate_effect_strength': False, 'confidence_intervals': False, 'target_units': 'ate', 'effect_modifiers': []}\n",
      "{'control_value': 0, 'treatment_value': 1, 'test_significance': False, 'evaluate_effect_strength': False, 'confidence_intervals': False, 'target_units': 'ate', 'effect_modifiers': []}\n",
      "{'control_value': 0, 'treatment_value': 1, 'test_significance': False, 'evaluate_effect_strength': False, 'confidence_intervals': False, 'target_units': 'ate', 'effect_modifiers': []}\n",
      "{'control_value': 0, 'treatment_value': 1, 'test_significance': False, 'evaluate_effect_strength': False, 'confidence_intervals': False, 'target_units': 'ate', 'effect_modifiers': []}\n",
      "{'control_value': 0, 'treatment_value': 1, 'test_significance': False, 'evaluate_effect_strength': False, 'confidence_intervals': False, 'target_units': 'ate', 'effect_modifiers': []}\n",
      "{'control_value': 0, 'treatment_value': 1, 'test_significance': False, 'evaluate_effect_strength': False, 'confidence_intervals': False, 'target_units': 'ate', 'effect_modifiers': []}\n",
      "{'control_value': 0, 'treatment_value': 1, 'test_significance': False, 'evaluate_effect_strength': False, 'confidence_intervals': False, 'target_units': 'ate', 'effect_modifiers': []}\n",
      "{'control_value': 0, 'treatment_value': 1, 'test_significance': False, 'evaluate_effect_strength': False, 'confidence_intervals': False, 'target_units': 'ate', 'effect_modifiers': []}\n",
      "{'control_value': 0, 'treatment_value': 1, 'test_significance': False, 'evaluate_effect_strength': False, 'confidence_intervals': False, 'target_units': 'ate', 'effect_modifiers': []}\n",
      "{'control_value': 0, 'treatment_value': 1, 'test_significance': False, 'evaluate_effect_strength': False, 'confidence_intervals': False, 'target_units': 'ate', 'effect_modifiers': []}\n",
      "{'control_value': 0, 'treatment_value': 1, 'test_significance': False, 'evaluate_effect_strength': False, 'confidence_intervals': False, 'target_units': 'ate', 'effect_modifiers': []}\n",
      "{'control_value': 0, 'treatment_value': 1, 'test_significance': False, 'evaluate_effect_strength': False, 'confidence_intervals': False, 'target_units': 'ate', 'effect_modifiers': []}\n",
      "{'control_value': 0, 'treatment_value': 1, 'test_significance': False, 'evaluate_effect_strength': False, 'confidence_intervals': False, 'target_units': 'ate', 'effect_modifiers': []}\n",
      "{'control_value': 0, 'treatment_value': 1, 'test_significance': False, 'evaluate_effect_strength': False, 'confidence_intervals': False, 'target_units': 'ate', 'effect_modifiers': []}\n",
      "{'control_value': 0, 'treatment_value': 1, 'test_significance': False, 'evaluate_effect_strength': False, 'confidence_intervals': False, 'target_units': 'ate', 'effect_modifiers': []}\n",
      "{'control_value': 0, 'treatment_value': 1, 'test_significance': False, 'evaluate_effect_strength': False, 'confidence_intervals': False, 'target_units': 'ate', 'effect_modifiers': []}\n",
      "{'control_value': 0, 'treatment_value': 1, 'test_significance': False, 'evaluate_effect_strength': False, 'confidence_intervals': False, 'target_units': 'ate', 'effect_modifiers': []}\n",
      "{'control_value': 0, 'treatment_value': 1, 'test_significance': False, 'evaluate_effect_strength': False, 'confidence_intervals': False, 'target_units': 'ate', 'effect_modifiers': []}\n",
      "{'control_value': 0, 'treatment_value': 1, 'test_significance': False, 'evaluate_effect_strength': False, 'confidence_intervals': False, 'target_units': 'ate', 'effect_modifiers': []}\n",
      "{'control_value': 0, 'treatment_value': 1, 'test_significance': False, 'evaluate_effect_strength': False, 'confidence_intervals': False, 'target_units': 'ate', 'effect_modifiers': []}\n",
      "{'control_value': 0, 'treatment_value': 1, 'test_significance': False, 'evaluate_effect_strength': False, 'confidence_intervals': False, 'target_units': 'ate', 'effect_modifiers': []}\n",
      "{'control_value': 0, 'treatment_value': 1, 'test_significance': False, 'evaluate_effect_strength': False, 'confidence_intervals': False, 'target_units': 'ate', 'effect_modifiers': []}\n",
      "{'control_value': 0, 'treatment_value': 1, 'test_significance': False, 'evaluate_effect_strength': False, 'confidence_intervals': False, 'target_units': 'ate', 'effect_modifiers': []}\n",
      "{'control_value': 0, 'treatment_value': 1, 'test_significance': False, 'evaluate_effect_strength': False, 'confidence_intervals': False, 'target_units': 'ate', 'effect_modifiers': []}\n",
      "{'control_value': 0, 'treatment_value': 1, 'test_significance': False, 'evaluate_effect_strength': False, 'confidence_intervals': False, 'target_units': 'ate', 'effect_modifiers': []}\n",
      "{'control_value': 0, 'treatment_value': 1, 'test_significance': False, 'evaluate_effect_strength': False, 'confidence_intervals': False, 'target_units': 'ate', 'effect_modifiers': []}\n",
      "{'control_value': 0, 'treatment_value': 1, 'test_significance': False, 'evaluate_effect_strength': False, 'confidence_intervals': False, 'target_units': 'ate', 'effect_modifiers': []}\n",
      "{'control_value': 0, 'treatment_value': 1, 'test_significance': False, 'evaluate_effect_strength': False, 'confidence_intervals': False, 'target_units': 'ate', 'effect_modifiers': []}\n",
      "{'control_value': 0, 'treatment_value': 1, 'test_significance': False, 'evaluate_effect_strength': False, 'confidence_intervals': False, 'target_units': 'ate', 'effect_modifiers': []}\n",
      "{'control_value': 0, 'treatment_value': 1, 'test_significance': False, 'evaluate_effect_strength': False, 'confidence_intervals': False, 'target_units': 'ate', 'effect_modifiers': []}\n",
      "{'control_value': 0, 'treatment_value': 1, 'test_significance': False, 'evaluate_effect_strength': False, 'confidence_intervals': False, 'target_units': 'ate', 'effect_modifiers': []}\n",
      "{'control_value': 0, 'treatment_value': 1, 'test_significance': False, 'evaluate_effect_strength': False, 'confidence_intervals': False, 'target_units': 'ate', 'effect_modifiers': []}\n",
      "{'control_value': 0, 'treatment_value': 1, 'test_significance': False, 'evaluate_effect_strength': False, 'confidence_intervals': False, 'target_units': 'ate', 'effect_modifiers': []}\n",
      "{'control_value': 0, 'treatment_value': 1, 'test_significance': False, 'evaluate_effect_strength': False, 'confidence_intervals': False, 'target_units': 'ate', 'effect_modifiers': []}\n",
      "{'control_value': 0, 'treatment_value': 1, 'test_significance': False, 'evaluate_effect_strength': False, 'confidence_intervals': False, 'target_units': 'ate', 'effect_modifiers': []}\n",
      "{'control_value': 0, 'treatment_value': 1, 'test_significance': False, 'evaluate_effect_strength': False, 'confidence_intervals': False, 'target_units': 'ate', 'effect_modifiers': []}\n",
      "{'control_value': 0, 'treatment_value': 1, 'test_significance': False, 'evaluate_effect_strength': False, 'confidence_intervals': False, 'target_units': 'ate', 'effect_modifiers': []}\n",
      "{'control_value': 0, 'treatment_value': 1, 'test_significance': False, 'evaluate_effect_strength': False, 'confidence_intervals': False, 'target_units': 'ate', 'effect_modifiers': []}\n",
      "{'control_value': 0, 'treatment_value': 1, 'test_significance': False, 'evaluate_effect_strength': False, 'confidence_intervals': False, 'target_units': 'ate', 'effect_modifiers': []}\n",
      "{'control_value': 0, 'treatment_value': 1, 'test_significance': False, 'evaluate_effect_strength': False, 'confidence_intervals': False, 'target_units': 'ate', 'effect_modifiers': []}\n",
      "{'control_value': 0, 'treatment_value': 1, 'test_significance': False, 'evaluate_effect_strength': False, 'confidence_intervals': False, 'target_units': 'ate', 'effect_modifiers': []}\n",
      "{'control_value': 0, 'treatment_value': 1, 'test_significance': False, 'evaluate_effect_strength': False, 'confidence_intervals': False, 'target_units': 'ate', 'effect_modifiers': []}\n",
      "{'control_value': 0, 'treatment_value': 1, 'test_significance': False, 'evaluate_effect_strength': False, 'confidence_intervals': False, 'target_units': 'ate', 'effect_modifiers': []}\n",
      "{'control_value': 0, 'treatment_value': 1, 'test_significance': False, 'evaluate_effect_strength': False, 'confidence_intervals': False, 'target_units': 'ate', 'effect_modifiers': []}\n",
      "{'control_value': 0, 'treatment_value': 1, 'test_significance': False, 'evaluate_effect_strength': False, 'confidence_intervals': False, 'target_units': 'ate', 'effect_modifiers': []}\n",
      "{'control_value': 0, 'treatment_value': 1, 'test_significance': False, 'evaluate_effect_strength': False, 'confidence_intervals': False, 'target_units': 'ate', 'effect_modifiers': []}\n",
      "{'control_value': 0, 'treatment_value': 1, 'test_significance': False, 'evaluate_effect_strength': False, 'confidence_intervals': False, 'target_units': 'ate', 'effect_modifiers': []}\n",
      "{'control_value': 0, 'treatment_value': 1, 'test_significance': False, 'evaluate_effect_strength': False, 'confidence_intervals': False, 'target_units': 'ate', 'effect_modifiers': []}\n",
      "{'control_value': 0, 'treatment_value': 1, 'test_significance': False, 'evaluate_effect_strength': False, 'confidence_intervals': False, 'target_units': 'ate', 'effect_modifiers': []}\n",
      "{'control_value': 0, 'treatment_value': 1, 'test_significance': False, 'evaluate_effect_strength': False, 'confidence_intervals': False, 'target_units': 'ate', 'effect_modifiers': []}\n",
      "{'control_value': 0, 'treatment_value': 1, 'test_significance': False, 'evaluate_effect_strength': False, 'confidence_intervals': False, 'target_units': 'ate', 'effect_modifiers': []}\n",
      "{'control_value': 0, 'treatment_value': 1, 'test_significance': False, 'evaluate_effect_strength': False, 'confidence_intervals': False, 'target_units': 'ate', 'effect_modifiers': []}\n",
      "{'control_value': 0, 'treatment_value': 1, 'test_significance': False, 'evaluate_effect_strength': False, 'confidence_intervals': False, 'target_units': 'ate', 'effect_modifiers': []}\n",
      "{'control_value': 0, 'treatment_value': 1, 'test_significance': False, 'evaluate_effect_strength': False, 'confidence_intervals': False, 'target_units': 'ate', 'effect_modifiers': []}\n",
      "{'control_value': 0, 'treatment_value': 1, 'test_significance': False, 'evaluate_effect_strength': False, 'confidence_intervals': False, 'target_units': 'ate', 'effect_modifiers': []}\n",
      "{'control_value': 0, 'treatment_value': 1, 'test_significance': False, 'evaluate_effect_strength': False, 'confidence_intervals': False, 'target_units': 'ate', 'effect_modifiers': []}\n",
      "{'control_value': 0, 'treatment_value': 1, 'test_significance': False, 'evaluate_effect_strength': False, 'confidence_intervals': False, 'target_units': 'ate', 'effect_modifiers': []}\n",
      "{'control_value': 0, 'treatment_value': 1, 'test_significance': False, 'evaluate_effect_strength': False, 'confidence_intervals': False, 'target_units': 'ate', 'effect_modifiers': []}\n",
      "{'control_value': 0, 'treatment_value': 1, 'test_significance': False, 'evaluate_effect_strength': False, 'confidence_intervals': False, 'target_units': 'ate', 'effect_modifiers': []}\n",
      "{'control_value': 0, 'treatment_value': 1, 'test_significance': False, 'evaluate_effect_strength': False, 'confidence_intervals': False, 'target_units': 'ate', 'effect_modifiers': []}\n",
      "{'control_value': 0, 'treatment_value': 1, 'test_significance': False, 'evaluate_effect_strength': False, 'confidence_intervals': False, 'target_units': 'ate', 'effect_modifiers': []}\n",
      "{'control_value': 0, 'treatment_value': 1, 'test_significance': False, 'evaluate_effect_strength': False, 'confidence_intervals': False, 'target_units': 'ate', 'effect_modifiers': []}\n",
      "{'control_value': 0, 'treatment_value': 1, 'test_significance': False, 'evaluate_effect_strength': False, 'confidence_intervals': False, 'target_units': 'ate', 'effect_modifiers': []}\n",
      "{'control_value': 0, 'treatment_value': 1, 'test_significance': False, 'evaluate_effect_strength': False, 'confidence_intervals': False, 'target_units': 'ate', 'effect_modifiers': []}\n",
      "{'control_value': 0, 'treatment_value': 1, 'test_significance': False, 'evaluate_effect_strength': False, 'confidence_intervals': False, 'target_units': 'ate', 'effect_modifiers': []}\n",
      "{'control_value': 0, 'treatment_value': 1, 'test_significance': False, 'evaluate_effect_strength': False, 'confidence_intervals': False, 'target_units': 'ate', 'effect_modifiers': []}\n",
      "{'control_value': 0, 'treatment_value': 1, 'test_significance': False, 'evaluate_effect_strength': False, 'confidence_intervals': False, 'target_units': 'ate', 'effect_modifiers': []}\n",
      "{'control_value': 0, 'treatment_value': 1, 'test_significance': False, 'evaluate_effect_strength': False, 'confidence_intervals': False, 'target_units': 'ate', 'effect_modifiers': []}\n",
      "{'control_value': 0, 'treatment_value': 1, 'test_significance': False, 'evaluate_effect_strength': False, 'confidence_intervals': False, 'target_units': 'ate', 'effect_modifiers': []}\n",
      "{'control_value': 0, 'treatment_value': 1, 'test_significance': False, 'evaluate_effect_strength': False, 'confidence_intervals': False, 'target_units': 'ate', 'effect_modifiers': []}\n",
      "{'control_value': 0, 'treatment_value': 1, 'test_significance': False, 'evaluate_effect_strength': False, 'confidence_intervals': False, 'target_units': 'ate', 'effect_modifiers': []}\n",
      "{'control_value': 0, 'treatment_value': 1, 'test_significance': False, 'evaluate_effect_strength': False, 'confidence_intervals': False, 'target_units': 'ate', 'effect_modifiers': []}\n",
      "{'control_value': 0, 'treatment_value': 1, 'test_significance': False, 'evaluate_effect_strength': False, 'confidence_intervals': False, 'target_units': 'ate', 'effect_modifiers': []}\n",
      "{'control_value': 0, 'treatment_value': 1, 'test_significance': False, 'evaluate_effect_strength': False, 'confidence_intervals': False, 'target_units': 'ate', 'effect_modifiers': []}\n",
      "Refute: Use a Placebo Treatment\n",
      "Estimated effect:-0.9724012012588332\n",
      "New effect:-0.011507275529808111\n",
      "p value:0.49\n",
      "\n"
     ]
    }
   ],
   "source": [
    "res_placebo=model.refute_estimate(identified_estimand, estimate,\n",
    "        method_name=\"placebo_treatment_refuter\", placebo_type=\"permute\")\n",
    "print(res_placebo)"
   ]
  },
  {
   "attachments": {},
   "cell_type": "markdown",
   "id": "f694ce3f-a0c2-4d75-adab-baede2b1a49f",
   "metadata": {},
   "source": [
    "3. data subset reduction"
   ]
  },
  {
   "cell_type": "code",
   "execution_count": 34,
   "id": "10f85e0f-9759-4da3-a81a-e16e90cd1d6d",
   "metadata": {},
   "outputs": [
    {
     "name": "stdout",
     "output_type": "stream",
     "text": [
      "{'control_value': 0, 'treatment_value': 1, 'test_significance': False, 'evaluate_effect_strength': False, 'confidence_intervals': False, 'target_units': 'ate', 'effect_modifiers': []}\n",
      "{'control_value': 0, 'treatment_value': 1, 'test_significance': False, 'evaluate_effect_strength': False, 'confidence_intervals': False, 'target_units': 'ate', 'effect_modifiers': []}\n",
      "{'control_value': 0, 'treatment_value': 1, 'test_significance': False, 'evaluate_effect_strength': False, 'confidence_intervals': False, 'target_units': 'ate', 'effect_modifiers': []}\n",
      "{'control_value': 0, 'treatment_value': 1, 'test_significance': False, 'evaluate_effect_strength': False, 'confidence_intervals': False, 'target_units': 'ate', 'effect_modifiers': []}\n",
      "{'control_value': 0, 'treatment_value': 1, 'test_significance': False, 'evaluate_effect_strength': False, 'confidence_intervals': False, 'target_units': 'ate', 'effect_modifiers': []}\n",
      "{'control_value': 0, 'treatment_value': 1, 'test_significance': False, 'evaluate_effect_strength': False, 'confidence_intervals': False, 'target_units': 'ate', 'effect_modifiers': []}\n",
      "{'control_value': 0, 'treatment_value': 1, 'test_significance': False, 'evaluate_effect_strength': False, 'confidence_intervals': False, 'target_units': 'ate', 'effect_modifiers': []}\n",
      "{'control_value': 0, 'treatment_value': 1, 'test_significance': False, 'evaluate_effect_strength': False, 'confidence_intervals': False, 'target_units': 'ate', 'effect_modifiers': []}\n",
      "{'control_value': 0, 'treatment_value': 1, 'test_significance': False, 'evaluate_effect_strength': False, 'confidence_intervals': False, 'target_units': 'ate', 'effect_modifiers': []}\n",
      "{'control_value': 0, 'treatment_value': 1, 'test_significance': False, 'evaluate_effect_strength': False, 'confidence_intervals': False, 'target_units': 'ate', 'effect_modifiers': []}\n",
      "{'control_value': 0, 'treatment_value': 1, 'test_significance': False, 'evaluate_effect_strength': False, 'confidence_intervals': False, 'target_units': 'ate', 'effect_modifiers': []}\n",
      "{'control_value': 0, 'treatment_value': 1, 'test_significance': False, 'evaluate_effect_strength': False, 'confidence_intervals': False, 'target_units': 'ate', 'effect_modifiers': []}\n",
      "{'control_value': 0, 'treatment_value': 1, 'test_significance': False, 'evaluate_effect_strength': False, 'confidence_intervals': False, 'target_units': 'ate', 'effect_modifiers': []}\n",
      "{'control_value': 0, 'treatment_value': 1, 'test_significance': False, 'evaluate_effect_strength': False, 'confidence_intervals': False, 'target_units': 'ate', 'effect_modifiers': []}\n",
      "{'control_value': 0, 'treatment_value': 1, 'test_significance': False, 'evaluate_effect_strength': False, 'confidence_intervals': False, 'target_units': 'ate', 'effect_modifiers': []}\n",
      "{'control_value': 0, 'treatment_value': 1, 'test_significance': False, 'evaluate_effect_strength': False, 'confidence_intervals': False, 'target_units': 'ate', 'effect_modifiers': []}\n",
      "{'control_value': 0, 'treatment_value': 1, 'test_significance': False, 'evaluate_effect_strength': False, 'confidence_intervals': False, 'target_units': 'ate', 'effect_modifiers': []}\n",
      "{'control_value': 0, 'treatment_value': 1, 'test_significance': False, 'evaluate_effect_strength': False, 'confidence_intervals': False, 'target_units': 'ate', 'effect_modifiers': []}\n",
      "{'control_value': 0, 'treatment_value': 1, 'test_significance': False, 'evaluate_effect_strength': False, 'confidence_intervals': False, 'target_units': 'ate', 'effect_modifiers': []}\n",
      "{'control_value': 0, 'treatment_value': 1, 'test_significance': False, 'evaluate_effect_strength': False, 'confidence_intervals': False, 'target_units': 'ate', 'effect_modifiers': []}\n",
      "{'control_value': 0, 'treatment_value': 1, 'test_significance': False, 'evaluate_effect_strength': False, 'confidence_intervals': False, 'target_units': 'ate', 'effect_modifiers': []}\n",
      "{'control_value': 0, 'treatment_value': 1, 'test_significance': False, 'evaluate_effect_strength': False, 'confidence_intervals': False, 'target_units': 'ate', 'effect_modifiers': []}\n",
      "{'control_value': 0, 'treatment_value': 1, 'test_significance': False, 'evaluate_effect_strength': False, 'confidence_intervals': False, 'target_units': 'ate', 'effect_modifiers': []}\n",
      "{'control_value': 0, 'treatment_value': 1, 'test_significance': False, 'evaluate_effect_strength': False, 'confidence_intervals': False, 'target_units': 'ate', 'effect_modifiers': []}\n",
      "{'control_value': 0, 'treatment_value': 1, 'test_significance': False, 'evaluate_effect_strength': False, 'confidence_intervals': False, 'target_units': 'ate', 'effect_modifiers': []}\n",
      "{'control_value': 0, 'treatment_value': 1, 'test_significance': False, 'evaluate_effect_strength': False, 'confidence_intervals': False, 'target_units': 'ate', 'effect_modifiers': []}\n",
      "{'control_value': 0, 'treatment_value': 1, 'test_significance': False, 'evaluate_effect_strength': False, 'confidence_intervals': False, 'target_units': 'ate', 'effect_modifiers': []}\n",
      "{'control_value': 0, 'treatment_value': 1, 'test_significance': False, 'evaluate_effect_strength': False, 'confidence_intervals': False, 'target_units': 'ate', 'effect_modifiers': []}\n",
      "{'control_value': 0, 'treatment_value': 1, 'test_significance': False, 'evaluate_effect_strength': False, 'confidence_intervals': False, 'target_units': 'ate', 'effect_modifiers': []}\n",
      "{'control_value': 0, 'treatment_value': 1, 'test_significance': False, 'evaluate_effect_strength': False, 'confidence_intervals': False, 'target_units': 'ate', 'effect_modifiers': []}\n",
      "{'control_value': 0, 'treatment_value': 1, 'test_significance': False, 'evaluate_effect_strength': False, 'confidence_intervals': False, 'target_units': 'ate', 'effect_modifiers': []}\n",
      "{'control_value': 0, 'treatment_value': 1, 'test_significance': False, 'evaluate_effect_strength': False, 'confidence_intervals': False, 'target_units': 'ate', 'effect_modifiers': []}\n",
      "{'control_value': 0, 'treatment_value': 1, 'test_significance': False, 'evaluate_effect_strength': False, 'confidence_intervals': False, 'target_units': 'ate', 'effect_modifiers': []}\n",
      "{'control_value': 0, 'treatment_value': 1, 'test_significance': False, 'evaluate_effect_strength': False, 'confidence_intervals': False, 'target_units': 'ate', 'effect_modifiers': []}\n",
      "{'control_value': 0, 'treatment_value': 1, 'test_significance': False, 'evaluate_effect_strength': False, 'confidence_intervals': False, 'target_units': 'ate', 'effect_modifiers': []}\n",
      "{'control_value': 0, 'treatment_value': 1, 'test_significance': False, 'evaluate_effect_strength': False, 'confidence_intervals': False, 'target_units': 'ate', 'effect_modifiers': []}\n",
      "{'control_value': 0, 'treatment_value': 1, 'test_significance': False, 'evaluate_effect_strength': False, 'confidence_intervals': False, 'target_units': 'ate', 'effect_modifiers': []}\n",
      "{'control_value': 0, 'treatment_value': 1, 'test_significance': False, 'evaluate_effect_strength': False, 'confidence_intervals': False, 'target_units': 'ate', 'effect_modifiers': []}\n",
      "{'control_value': 0, 'treatment_value': 1, 'test_significance': False, 'evaluate_effect_strength': False, 'confidence_intervals': False, 'target_units': 'ate', 'effect_modifiers': []}\n",
      "{'control_value': 0, 'treatment_value': 1, 'test_significance': False, 'evaluate_effect_strength': False, 'confidence_intervals': False, 'target_units': 'ate', 'effect_modifiers': []}\n",
      "{'control_value': 0, 'treatment_value': 1, 'test_significance': False, 'evaluate_effect_strength': False, 'confidence_intervals': False, 'target_units': 'ate', 'effect_modifiers': []}\n",
      "{'control_value': 0, 'treatment_value': 1, 'test_significance': False, 'evaluate_effect_strength': False, 'confidence_intervals': False, 'target_units': 'ate', 'effect_modifiers': []}\n",
      "{'control_value': 0, 'treatment_value': 1, 'test_significance': False, 'evaluate_effect_strength': False, 'confidence_intervals': False, 'target_units': 'ate', 'effect_modifiers': []}\n",
      "{'control_value': 0, 'treatment_value': 1, 'test_significance': False, 'evaluate_effect_strength': False, 'confidence_intervals': False, 'target_units': 'ate', 'effect_modifiers': []}\n",
      "{'control_value': 0, 'treatment_value': 1, 'test_significance': False, 'evaluate_effect_strength': False, 'confidence_intervals': False, 'target_units': 'ate', 'effect_modifiers': []}\n",
      "{'control_value': 0, 'treatment_value': 1, 'test_significance': False, 'evaluate_effect_strength': False, 'confidence_intervals': False, 'target_units': 'ate', 'effect_modifiers': []}\n",
      "{'control_value': 0, 'treatment_value': 1, 'test_significance': False, 'evaluate_effect_strength': False, 'confidence_intervals': False, 'target_units': 'ate', 'effect_modifiers': []}\n",
      "{'control_value': 0, 'treatment_value': 1, 'test_significance': False, 'evaluate_effect_strength': False, 'confidence_intervals': False, 'target_units': 'ate', 'effect_modifiers': []}\n",
      "{'control_value': 0, 'treatment_value': 1, 'test_significance': False, 'evaluate_effect_strength': False, 'confidence_intervals': False, 'target_units': 'ate', 'effect_modifiers': []}\n",
      "{'control_value': 0, 'treatment_value': 1, 'test_significance': False, 'evaluate_effect_strength': False, 'confidence_intervals': False, 'target_units': 'ate', 'effect_modifiers': []}\n",
      "{'control_value': 0, 'treatment_value': 1, 'test_significance': False, 'evaluate_effect_strength': False, 'confidence_intervals': False, 'target_units': 'ate', 'effect_modifiers': []}\n",
      "{'control_value': 0, 'treatment_value': 1, 'test_significance': False, 'evaluate_effect_strength': False, 'confidence_intervals': False, 'target_units': 'ate', 'effect_modifiers': []}\n",
      "{'control_value': 0, 'treatment_value': 1, 'test_significance': False, 'evaluate_effect_strength': False, 'confidence_intervals': False, 'target_units': 'ate', 'effect_modifiers': []}\n",
      "{'control_value': 0, 'treatment_value': 1, 'test_significance': False, 'evaluate_effect_strength': False, 'confidence_intervals': False, 'target_units': 'ate', 'effect_modifiers': []}\n",
      "{'control_value': 0, 'treatment_value': 1, 'test_significance': False, 'evaluate_effect_strength': False, 'confidence_intervals': False, 'target_units': 'ate', 'effect_modifiers': []}\n",
      "{'control_value': 0, 'treatment_value': 1, 'test_significance': False, 'evaluate_effect_strength': False, 'confidence_intervals': False, 'target_units': 'ate', 'effect_modifiers': []}\n",
      "{'control_value': 0, 'treatment_value': 1, 'test_significance': False, 'evaluate_effect_strength': False, 'confidence_intervals': False, 'target_units': 'ate', 'effect_modifiers': []}\n",
      "{'control_value': 0, 'treatment_value': 1, 'test_significance': False, 'evaluate_effect_strength': False, 'confidence_intervals': False, 'target_units': 'ate', 'effect_modifiers': []}\n",
      "{'control_value': 0, 'treatment_value': 1, 'test_significance': False, 'evaluate_effect_strength': False, 'confidence_intervals': False, 'target_units': 'ate', 'effect_modifiers': []}\n",
      "{'control_value': 0, 'treatment_value': 1, 'test_significance': False, 'evaluate_effect_strength': False, 'confidence_intervals': False, 'target_units': 'ate', 'effect_modifiers': []}\n",
      "{'control_value': 0, 'treatment_value': 1, 'test_significance': False, 'evaluate_effect_strength': False, 'confidence_intervals': False, 'target_units': 'ate', 'effect_modifiers': []}\n",
      "{'control_value': 0, 'treatment_value': 1, 'test_significance': False, 'evaluate_effect_strength': False, 'confidence_intervals': False, 'target_units': 'ate', 'effect_modifiers': []}\n",
      "{'control_value': 0, 'treatment_value': 1, 'test_significance': False, 'evaluate_effect_strength': False, 'confidence_intervals': False, 'target_units': 'ate', 'effect_modifiers': []}\n",
      "{'control_value': 0, 'treatment_value': 1, 'test_significance': False, 'evaluate_effect_strength': False, 'confidence_intervals': False, 'target_units': 'ate', 'effect_modifiers': []}\n",
      "{'control_value': 0, 'treatment_value': 1, 'test_significance': False, 'evaluate_effect_strength': False, 'confidence_intervals': False, 'target_units': 'ate', 'effect_modifiers': []}\n",
      "{'control_value': 0, 'treatment_value': 1, 'test_significance': False, 'evaluate_effect_strength': False, 'confidence_intervals': False, 'target_units': 'ate', 'effect_modifiers': []}\n",
      "{'control_value': 0, 'treatment_value': 1, 'test_significance': False, 'evaluate_effect_strength': False, 'confidence_intervals': False, 'target_units': 'ate', 'effect_modifiers': []}\n",
      "{'control_value': 0, 'treatment_value': 1, 'test_significance': False, 'evaluate_effect_strength': False, 'confidence_intervals': False, 'target_units': 'ate', 'effect_modifiers': []}\n",
      "{'control_value': 0, 'treatment_value': 1, 'test_significance': False, 'evaluate_effect_strength': False, 'confidence_intervals': False, 'target_units': 'ate', 'effect_modifiers': []}\n",
      "{'control_value': 0, 'treatment_value': 1, 'test_significance': False, 'evaluate_effect_strength': False, 'confidence_intervals': False, 'target_units': 'ate', 'effect_modifiers': []}\n",
      "{'control_value': 0, 'treatment_value': 1, 'test_significance': False, 'evaluate_effect_strength': False, 'confidence_intervals': False, 'target_units': 'ate', 'effect_modifiers': []}\n",
      "{'control_value': 0, 'treatment_value': 1, 'test_significance': False, 'evaluate_effect_strength': False, 'confidence_intervals': False, 'target_units': 'ate', 'effect_modifiers': []}\n",
      "{'control_value': 0, 'treatment_value': 1, 'test_significance': False, 'evaluate_effect_strength': False, 'confidence_intervals': False, 'target_units': 'ate', 'effect_modifiers': []}\n",
      "{'control_value': 0, 'treatment_value': 1, 'test_significance': False, 'evaluate_effect_strength': False, 'confidence_intervals': False, 'target_units': 'ate', 'effect_modifiers': []}\n",
      "{'control_value': 0, 'treatment_value': 1, 'test_significance': False, 'evaluate_effect_strength': False, 'confidence_intervals': False, 'target_units': 'ate', 'effect_modifiers': []}\n",
      "{'control_value': 0, 'treatment_value': 1, 'test_significance': False, 'evaluate_effect_strength': False, 'confidence_intervals': False, 'target_units': 'ate', 'effect_modifiers': []}\n",
      "{'control_value': 0, 'treatment_value': 1, 'test_significance': False, 'evaluate_effect_strength': False, 'confidence_intervals': False, 'target_units': 'ate', 'effect_modifiers': []}\n",
      "{'control_value': 0, 'treatment_value': 1, 'test_significance': False, 'evaluate_effect_strength': False, 'confidence_intervals': False, 'target_units': 'ate', 'effect_modifiers': []}\n",
      "{'control_value': 0, 'treatment_value': 1, 'test_significance': False, 'evaluate_effect_strength': False, 'confidence_intervals': False, 'target_units': 'ate', 'effect_modifiers': []}\n",
      "{'control_value': 0, 'treatment_value': 1, 'test_significance': False, 'evaluate_effect_strength': False, 'confidence_intervals': False, 'target_units': 'ate', 'effect_modifiers': []}\n",
      "{'control_value': 0, 'treatment_value': 1, 'test_significance': False, 'evaluate_effect_strength': False, 'confidence_intervals': False, 'target_units': 'ate', 'effect_modifiers': []}\n",
      "{'control_value': 0, 'treatment_value': 1, 'test_significance': False, 'evaluate_effect_strength': False, 'confidence_intervals': False, 'target_units': 'ate', 'effect_modifiers': []}\n",
      "{'control_value': 0, 'treatment_value': 1, 'test_significance': False, 'evaluate_effect_strength': False, 'confidence_intervals': False, 'target_units': 'ate', 'effect_modifiers': []}\n",
      "{'control_value': 0, 'treatment_value': 1, 'test_significance': False, 'evaluate_effect_strength': False, 'confidence_intervals': False, 'target_units': 'ate', 'effect_modifiers': []}\n",
      "{'control_value': 0, 'treatment_value': 1, 'test_significance': False, 'evaluate_effect_strength': False, 'confidence_intervals': False, 'target_units': 'ate', 'effect_modifiers': []}\n",
      "{'control_value': 0, 'treatment_value': 1, 'test_significance': False, 'evaluate_effect_strength': False, 'confidence_intervals': False, 'target_units': 'ate', 'effect_modifiers': []}\n",
      "{'control_value': 0, 'treatment_value': 1, 'test_significance': False, 'evaluate_effect_strength': False, 'confidence_intervals': False, 'target_units': 'ate', 'effect_modifiers': []}\n",
      "{'control_value': 0, 'treatment_value': 1, 'test_significance': False, 'evaluate_effect_strength': False, 'confidence_intervals': False, 'target_units': 'ate', 'effect_modifiers': []}\n",
      "{'control_value': 0, 'treatment_value': 1, 'test_significance': False, 'evaluate_effect_strength': False, 'confidence_intervals': False, 'target_units': 'ate', 'effect_modifiers': []}\n",
      "{'control_value': 0, 'treatment_value': 1, 'test_significance': False, 'evaluate_effect_strength': False, 'confidence_intervals': False, 'target_units': 'ate', 'effect_modifiers': []}\n",
      "{'control_value': 0, 'treatment_value': 1, 'test_significance': False, 'evaluate_effect_strength': False, 'confidence_intervals': False, 'target_units': 'ate', 'effect_modifiers': []}\n",
      "{'control_value': 0, 'treatment_value': 1, 'test_significance': False, 'evaluate_effect_strength': False, 'confidence_intervals': False, 'target_units': 'ate', 'effect_modifiers': []}\n",
      "{'control_value': 0, 'treatment_value': 1, 'test_significance': False, 'evaluate_effect_strength': False, 'confidence_intervals': False, 'target_units': 'ate', 'effect_modifiers': []}\n",
      "{'control_value': 0, 'treatment_value': 1, 'test_significance': False, 'evaluate_effect_strength': False, 'confidence_intervals': False, 'target_units': 'ate', 'effect_modifiers': []}\n",
      "{'control_value': 0, 'treatment_value': 1, 'test_significance': False, 'evaluate_effect_strength': False, 'confidence_intervals': False, 'target_units': 'ate', 'effect_modifiers': []}\n",
      "{'control_value': 0, 'treatment_value': 1, 'test_significance': False, 'evaluate_effect_strength': False, 'confidence_intervals': False, 'target_units': 'ate', 'effect_modifiers': []}\n",
      "{'control_value': 0, 'treatment_value': 1, 'test_significance': False, 'evaluate_effect_strength': False, 'confidence_intervals': False, 'target_units': 'ate', 'effect_modifiers': []}\n",
      "{'control_value': 0, 'treatment_value': 1, 'test_significance': False, 'evaluate_effect_strength': False, 'confidence_intervals': False, 'target_units': 'ate', 'effect_modifiers': []}\n",
      "{'control_value': 0, 'treatment_value': 1, 'test_significance': False, 'evaluate_effect_strength': False, 'confidence_intervals': False, 'target_units': 'ate', 'effect_modifiers': []}\n",
      "{'control_value': 0, 'treatment_value': 1, 'test_significance': False, 'evaluate_effect_strength': False, 'confidence_intervals': False, 'target_units': 'ate', 'effect_modifiers': []}\n",
      "Refute: Use a subset of data\n",
      "Estimated effect:-0.9724012012588332\n",
      "New effect:-0.9774342040770501\n",
      "p value:0.45999999999999996\n",
      "\n"
     ]
    }
   ],
   "source": [
    "res_subset=model.refute_estimate(identified_estimand, estimate,\n",
    "        method_name=\"data_subset_refuter\", subset_fraction=0.9)\n",
    "print(res_subset)"
   ]
  },
  {
   "attachments": {},
   "cell_type": "markdown",
   "id": "7b8a4872-5609-4d27-ba73-777e82f1505d",
   "metadata": {},
   "source": [
    "### We get P values a lot bigger than 0.05, so our model is confirmed\n",
    "\n",
    "The crude oil is showing a causal impact on constellation by about -0.97 which is quite close to what we had in causal discovery (-0.93)"
   ]
  },
  {
   "cell_type": "code",
   "execution_count": null,
   "id": "7a1f1c20-9d77-42fb-915f-d433367e58d9",
   "metadata": {},
   "outputs": [],
   "source": []
  },
  {
   "cell_type": "code",
   "execution_count": null,
   "id": "a0b01c68",
   "metadata": {},
   "outputs": [],
   "source": []
  }
 ],
 "metadata": {
  "kernelspec": {
   "display_name": "Python 3 (ipykernel)",
   "language": "python",
   "name": "python3"
  },
  "language_info": {
   "codemirror_mode": {
    "name": "ipython",
    "version": 3
   },
   "file_extension": ".py",
   "mimetype": "text/x-python",
   "name": "python",
   "nbconvert_exporter": "python",
   "pygments_lexer": "ipython3",
   "version": "3.8.13"
  }
 },
 "nbformat": 4,
 "nbformat_minor": 5
}
