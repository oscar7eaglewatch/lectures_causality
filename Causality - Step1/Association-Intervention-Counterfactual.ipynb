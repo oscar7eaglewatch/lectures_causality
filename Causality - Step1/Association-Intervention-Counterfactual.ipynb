{
 "cells": [
  {
   "cell_type": "code",
   "execution_count": 1,
   "id": "d885824b",
   "metadata": {},
   "outputs": [],
   "source": [
    "import numpy as np\n",
    "from scipy import stats\n",
    "\n",
    "import matplotlib.pyplot as plt\n",
    "plt.style.use('fivethirtyeight')"
   ]
  },
  {
   "cell_type": "code",
   "execution_count": 2,
   "id": "7a2494ed",
   "metadata": {},
   "outputs": [],
   "source": [
    "COLORS = [\n",
    "    '#00B0F0',\n",
    "    '#FF0000'\n",
    "]"
   ]
  },
  {
   "attachments": {},
   "cell_type": "markdown",
   "id": "c6c49b0c",
   "metadata": {},
   "source": [
    "## Association"
   ]
  },
  {
   "attachments": {},
   "cell_type": "markdown",
   "id": "2be8da82",
   "metadata": {},
   "source": [
    "### Bookstore example"
   ]
  },
  {
   "cell_type": "code",
   "execution_count": 3,
   "id": "7f5e9d21",
   "metadata": {},
   "outputs": [],
   "source": [
    "# First, we'll build a structural causal model (SCM)\n",
    "class BookSCM:\n",
    "    \n",
    "    def __init__(self, random_seed=None):\n",
    "        self.random_seed = random_seed\n",
    "        self.u_0 = stats.uniform()\n",
    "        self.u_1 = stats.norm()\n",
    "        \n",
    "    def sample(self, sample_size=100):\n",
    "        \"\"\"Samples from the SCM\"\"\"\n",
    "        if self.random_seed:\n",
    "            np.random.seed(self.random_seed)\n",
    "        \n",
    "        u_0 = self.u_0.rvs(sample_size)\n",
    "        u_1 = self.u_1.rvs(sample_size)\n",
    "        a = u_0 > .61\n",
    "        b = (a + .5 * u_1) > .2\n",
    "        \n",
    "        return a, b"
   ]
  },
  {
   "cell_type": "code",
   "execution_count": 4,
   "id": "5e1ea2e0",
   "metadata": {},
   "outputs": [],
   "source": [
    "# Let's initialize our SCM\n",
    "scm = BookSCM(random_seed=45)"
   ]
  },
  {
   "cell_type": "code",
   "execution_count": 5,
   "id": "fbf25307",
   "metadata": {},
   "outputs": [],
   "source": [
    "# ...and sample from it\n",
    "buy_book_a, buy_book_b = scm.sample(100)"
   ]
  },
  {
   "cell_type": "code",
   "execution_count": 6,
   "id": "16601810",
   "metadata": {},
   "outputs": [
    {
     "data": {
      "text/plain": [
       "array([ True, False, False, False, False, False, False, False, False,\n",
       "        True,  True,  True,  True, False,  True, False,  True,  True,\n",
       "       False, False, False, False, False, False, False, False,  True,\n",
       "       False,  True, False,  True, False, False, False,  True, False,\n",
       "       False, False, False, False,  True, False,  True, False, False,\n",
       "        True,  True, False,  True, False, False, False,  True,  True,\n",
       "       False, False,  True,  True, False, False, False, False, False,\n",
       "        True,  True, False, False, False, False, False, False,  True,\n",
       "        True, False, False, False,  True,  True, False, False, False,\n",
       "       False,  True, False,  True,  True,  True,  True, False,  True,\n",
       "        True, False, False,  True, False,  True,  True, False,  True,\n",
       "        True])"
      ]
     },
     "execution_count": 6,
     "metadata": {},
     "output_type": "execute_result"
    }
   ],
   "source": [
    "buy_book_a"
   ]
  },
  {
   "cell_type": "code",
   "execution_count": 7,
   "id": "df697c5f",
   "metadata": {},
   "outputs": [
    {
     "data": {
      "text/plain": [
       "array([False, False,  True,  True, False, False, False, False, False,\n",
       "        True,  True,  True,  True, False,  True, False,  True,  True,\n",
       "       False, False,  True, False, False,  True, False,  True,  True,\n",
       "        True,  True,  True,  True, False,  True, False,  True, False,\n",
       "       False,  True, False, False,  True, False,  True, False, False,\n",
       "        True,  True, False,  True, False, False,  True,  True,  True,\n",
       "       False, False, False,  True,  True, False,  True,  True, False,\n",
       "        True,  True,  True, False, False, False, False,  True,  True,\n",
       "        True, False, False, False,  True,  True,  True, False,  True,\n",
       "        True,  True, False,  True,  True,  True,  True,  True,  True,\n",
       "        True,  True, False,  True, False,  True,  True,  True,  True,\n",
       "        True])"
      ]
     },
     "execution_count": 7,
     "metadata": {},
     "output_type": "execute_result"
    }
   ],
   "source": [
    "buy_book_b"
   ]
  },
  {
   "cell_type": "code",
   "execution_count": 8,
   "id": "3f6aae6a",
   "metadata": {},
   "outputs": [
    {
     "data": {
      "text/plain": [
       "37"
      ]
     },
     "execution_count": 8,
     "metadata": {},
     "output_type": "execute_result"
    }
   ],
   "source": [
    "np.where(buy_book_b, buy_book_a, 0).sum()"
   ]
  },
  {
   "cell_type": "code",
   "execution_count": 9,
   "id": "9a42fd00",
   "metadata": {},
   "outputs": [
    {
     "data": {
      "text/plain": [
       "array([0, 0, 0, 0, 0, 0, 0, 0, 0, 1, 1, 1, 1, 0, 1, 0, 1, 1, 0, 0, 0, 0,\n",
       "       0, 0, 0, 0, 1, 0, 1, 0, 1, 0, 0, 0, 1, 0, 0, 0, 0, 0, 1, 0, 1, 0,\n",
       "       0, 1, 1, 0, 1, 0, 0, 0, 1, 1, 0, 0, 0, 1, 0, 0, 0, 0, 0, 1, 1, 0,\n",
       "       0, 0, 0, 0, 0, 1, 1, 0, 0, 0, 1, 1, 0, 0, 0, 0, 1, 0, 1, 1, 1, 1,\n",
       "       0, 1, 1, 0, 0, 1, 0, 1, 1, 0, 1, 1])"
      ]
     },
     "execution_count": 9,
     "metadata": {},
     "output_type": "execute_result"
    }
   ],
   "source": [
    "# Sanity check\n",
    "# if b is true and a is true, then 1 otherwise 0\n",
    "np.where(buy_book_b, buy_book_a, 0)\n",
    "\n"
   ]
  },
  {
   "cell_type": "code",
   "execution_count": 10,
   "id": "9cfaa047",
   "metadata": {},
   "outputs": [
    {
     "name": "stdout",
     "output_type": "stream",
     "text": [
      "Probability of buying book A: 0.390\n",
      "Probability of buying book B: 0.580\n",
      "Probability of buying book A given B: 0.638\n",
      "Probability of buying book B given A: 0.949\n"
     ]
    }
   ],
   "source": [
    "# Let's compute probabilities\n",
    "proba_book_a = buy_book_a.sum() / buy_book_a.shape[0]\n",
    "proba_book_b = buy_book_b.sum() / buy_book_b.shape[0]\n",
    "\n",
    "print(f'Probability of buying book A: {proba_book_a:0.3f}')\n",
    "print(f'Probability of buying book B: {proba_book_b:0.3f}')\n",
    "\n",
    "# ...and conditional probailities\n",
    "proba_book_a_given_book_b = np.where(buy_book_b, buy_book_a, 0).sum() / buy_book_b.sum()\n",
    "proba_book_b_given_book_a = np.where(buy_book_a, buy_book_b, 0).sum() / buy_book_a.sum()\n",
    "\n",
    "print(f'Probability of buying book A given B: {proba_book_a_given_book_b:0.3f}')\n",
    "print(f'Probability of buying book B given A: {proba_book_b_given_book_a:0.3f}')"
   ]
  },
  {
   "attachments": {},
   "cell_type": "markdown",
   "id": "735d33fe",
   "metadata": {},
   "source": [
    "## Intervention"
   ]
  },
  {
   "cell_type": "markdown",
   "id": "4dbf0fe2",
   "metadata": {},
   "source": [
    "We will use Pearson correlation coefficient and p-value for testing non-correlation to prove how intervention change the system\n",
    "<br>\n",
    "<br>\n",
    "It returns Pearson product-moment correlation coefficient (-1 ~ +1 with 0 implying no correlation) and p-value\n",
    "<br>\n",
    "<br>\n",
    "If p-value > 0.05 0r > 0.01, we accept the null hypothesis\n",
    "\"the distributions underlying the samples are uncorrelated and normally distributed\""
   ]
  },
  {
   "cell_type": "code",
   "execution_count": 11,
   "id": "125275ff",
   "metadata": {},
   "outputs": [
    {
     "name": "stdout",
     "output_type": "stream",
     "text": [
      "Mean of B before any intervention: -0.620\n",
      "Variance of B before any intervention: 22.667\n",
      "Correlation between A and B:\n",
      "r = 0.978; p = 0.000\n",
      "\n",
      "Mean of B after the intervention on A: 7.575\n",
      "Variance of B after the intervention on A: 1.003\n",
      "\n",
      "Mean of B after the intervention on B: 0.186\n",
      "Variance of B after the intervention on B: 0.995\n",
      "Correlation between A and B after intervening on B:\n",
      "r = -0.023; p = 0.821\n",
      "\n"
     ]
    }
   ],
   "source": [
    "SAMPLE_SIZE = 100\n",
    "\n",
    "np.random.seed(45)\n",
    "\n",
    "u_0 = np.random.randn(SAMPLE_SIZE)\n",
    "u_1 = np.random.randn(SAMPLE_SIZE)\n",
    "a = u_0\n",
    "b = 5 * a + u_1\n",
    "\n",
    "r, p = stats.pearsonr(a, b)\n",
    "\n",
    "print(f'Mean of B before any intervention: {b.mean():.3f}')\n",
    "print(f'Variance of B before any intervention: {b.var():.3f}')\n",
    "print(f'Correlation between A and B:\\nr = {r:.3f}; p = {p:.3f}\\n')\n",
    "\n",
    "a = np.array([1.5] * SAMPLE_SIZE)\n",
    "b = 5 * a + u_1\n",
    "\n",
    "print(f'Mean of B after the intervention on A: {b.mean():.3f}')\n",
    "print(f'Variance of B after the intervention on A: {b.var():.3f}\\n')\n",
    "\n",
    "a = u_0\n",
    "b = np.random.randn(SAMPLE_SIZE)\n",
    "\n",
    "r, p = stats.pearsonr(a, b)\n",
    "\n",
    "print(f'Mean of B after the intervention on B: {b.mean():.3f}')\n",
    "print(f'Variance of B after the intervention on B: {b.var():.3f}')\n",
    "print(f'Correlation between A and B after intervening on B:\\nr = {r:.3f}; p = {p:.3f}\\n')"
   ]
  },
  {
   "attachments": {},
   "cell_type": "markdown",
   "id": "1d17be2b",
   "metadata": {},
   "source": [
    "## Counterfactuals"
   ]
  },
  {
   "attachments": {},
   "cell_type": "markdown",
   "id": "64a2d342",
   "metadata": {},
   "source": [
    "We'll use the following SCM:\n",
    "\n",
    "$$\\large Y := TU + (T-1)(U-1)$$"
   ]
  },
  {
   "cell_type": "code",
   "execution_count": 12,
   "id": "ac4c9175",
   "metadata": {},
   "outputs": [],
   "source": [
    "class CounterfactualSCM:\n",
    "    \n",
    "    def abduct(self, t, y):\n",
    "        return (t + y - 1)/(2*t - 1)\n",
    "    \n",
    "    def modify(self, t):\n",
    "        return lambda u: t * u + (t - 1) * (u - 1)\n",
    "        \n",
    "    def predict(self, u, t):\n",
    "        return self.modify(t)(u)"
   ]
  },
  {
   "cell_type": "code",
   "execution_count": 13,
   "id": "060be2c3",
   "metadata": {},
   "outputs": [],
   "source": [
    "coffee = CounterfactualSCM()\n",
    "t = 1\n",
    "y = 1"
   ]
  },
  {
   "cell_type": "code",
   "execution_count": 14,
   "id": "b40ca681",
   "metadata": {},
   "outputs": [
    {
     "data": {
      "text/plain": [
       "1.0"
      ]
     },
     "execution_count": 14,
     "metadata": {},
     "output_type": "execute_result"
    }
   ],
   "source": [
    "u = coffee.abduct(t=t, y=y)\n",
    "u"
   ]
  },
  {
   "cell_type": "code",
   "execution_count": 15,
   "id": "f0d28a6f",
   "metadata": {
    "scrolled": true
   },
   "outputs": [
    {
     "data": {
      "text/plain": [
       "0.0"
      ]
     },
     "execution_count": 15,
     "metadata": {},
     "output_type": "execute_result"
    }
   ],
   "source": [
    "coffee.predict(u=u, t=0)"
   ]
  },
  {
   "attachments": {},
   "cell_type": "markdown",
   "id": "90f12e93",
   "metadata": {},
   "source": [
    "## Causation without correlation - plots"
   ]
  },
  {
   "attachments": {},
   "cell_type": "markdown",
   "id": "4fa7369e",
   "metadata": {},
   "source": [
    "### Non-monotonic case"
   ]
  },
  {
   "cell_type": "code",
   "execution_count": 16,
   "id": "9fe93c0a",
   "metadata": {},
   "outputs": [],
   "source": [
    "x = np.random.uniform(-2, 2, 5000)\n",
    "y = x**2 + 0.2*np.random.randn(len(x))"
   ]
  },
  {
   "cell_type": "code",
   "execution_count": 17,
   "id": "0dcc1649",
   "metadata": {
    "scrolled": true
   },
   "outputs": [
    {
     "data": {
      "image/png": "[encoded data removed]",
      "text/plain": [
       "<Figure size 432x288 with 1 Axes>"
      ]
     },
     "metadata": {
      "needs_background": "light"
     },
     "output_type": "display_data"
    }
   ],
   "source": [
    "plt.scatter(x, y, alpha=.1)\n",
    "plt.xlabel('$X$', alpha=.5)\n",
    "plt.ylabel('$Y$', alpha=.5)\n",
    "plt.show()"
   ]
  },
  {
   "cell_type": "markdown",
   "id": "762434d2",
   "metadata": {},
   "source": [
    "### Null Hypothesis for The Spearman rank-order correlation coefficient:\n",
    "\"Two samples have no ordinal correlation.\"\n",
    "<br>\n",
    "<br>\n",
    "if p > 0.05 or 0.01, we accept the null hypothesis\n",
    "<br>\n",
    "<br>\n",
    "It returns correlation coefficient (-1~1, 0 means no correlation) and p value"
   ]
  },
  {
   "cell_type": "code",
   "execution_count": 18,
   "id": "6836fe51",
   "metadata": {},
   "outputs": [
    {
     "data": {
      "text/plain": [
       "SpearmanrResult(correlation=-0.017571125214845006, pvalue=0.21414381254206408)"
      ]
     },
     "execution_count": 18,
     "metadata": {},
     "output_type": "execute_result"
    }
   ],
   "source": [
    "# Correlation coefficient\n",
    "stats.spearmanr(x, y)"
   ]
  },
  {
   "cell_type": "code",
   "execution_count": null,
   "id": "f02081d9",
   "metadata": {},
   "outputs": [],
   "source": []
  }
 ],
 "metadata": {
  "kernelspec": {
   "display_name": "econml",
   "language": "python",
   "name": "python3"
  },
  "language_info": {
   "codemirror_mode": {
    "name": "ipython",
    "version": 3
   },
   "file_extension": ".py",
   "mimetype": "text/x-python",
   "name": "python",
   "nbconvert_exporter": "python",
   "pygments_lexer": "ipython3",
   "version": "3.8.13"
  }
 },
 "nbformat": 4,
 "nbformat_minor": 5
}
